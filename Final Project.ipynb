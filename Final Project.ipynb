{
 "cells": [
  {
   "cell_type": "markdown",
   "metadata": {},
   "source": [
    "### Problem Statement\n",
    "For this project you must create a data set by simulating a real-world phenomenon of your choosing.  You may pick any phenomenon you wish – you might pick one that is of interest to you in your personal or professional life.  \n",
    "\n",
    "Then, rather than collect data related to the phenomenon, you should model and synthesise such data using Python. We suggest you use the numpy.random package for this purpose.  Specifically, in this project you should:\n",
    "\n",
    "(i)   Choose a real-world phenomenon that can be measured and for which you could collect at least one-hundred data points across at least four different variables.\n",
    "\n",
    "(ii)  Investigate  the  types  of  variables  involved,  their  likely  distributions,  and  their relationships with each other.\n",
    "\n",
    "(iii) Synthesise/simulate a data set as closely matching their properties as possible.\n",
    "\n",
    "(iv)  Detail your research and implement the simulation in a Jupyter notebook – the data set itself can simply be     displayed in an output cell within the notebook.\n",
    "\n",
    "Note that this project is about simulation – you must synthesise a data set.  Some students may already have some real-world data sets in their own files.  It is okay to base your synthesised data set on these should you wish (please reference it if you do),but the main task in this project is to create a synthesised data set.  "
   ]
  },
  {
   "cell_type": "markdown",
   "metadata": {},
   "source": [
    "### Example Project Idea - A Real-world phenomenon of the performance of students studying a ten-credit module. \n",
    "\n",
    "After some research, I decide that the most interesting variable related to this is the mark a student receives in the module - this is going to be one of my variables (grade).\n",
    "\n",
    "Upon investigation of the problem, I find that the number of hours on average a student studies per week (hours), the number of times they log onto Moodle in the first three weeks of term (logins), and their previous level of degree qualification (qual) are closely related to grade. The hours and grade variables will be non-negative real number with two decimal places,logins will be a non-zero integer and qual will be acategorical variable with four possible values: none, bachelors, masters, or phd.\n",
    "\n",
    "After some online research, I find that full-time post-graduate students study on average four hours per week with a standard deviation of a quarter of an hour and that a normal distribution is an acceptable model of such a variable. Likewise, I investigate the other four variables, and I also look at the relationships between the variables. \n",
    "\n",
    "I devise an algorithm (or method) to generate such a data set, simulating values of the four variables for two-hundred students. I detail all this work in my notebook, and then I add some code in to generate a data set with those properties"
   ]
  },
  {
   "cell_type": "markdown",
   "metadata": {},
   "source": [
    "### Sample Project Outline:\n",
    "\n",
    "#### Project Idea: A Real-world phenomenon of the performance of students studying a ten-credit module.\n",
    "#### Variables:\n",
    "\n",
    "(i)   Grade:  Mark a student receives in the module (Non-negative real number with two decimal places)\n",
    "\n",
    "(ii)  Hours:  Number of hours on average a student studies per week (Non-negative real number with two decimal places)\n",
    "\n",
    "     (avge 4 hours per week with a std deviation of a 1/4 hr)  \n",
    "    \n",
    "(iii) Logins: The number of times they log onto Moodle in the first three weeks of term (Non-zero integer)\n",
    "\n",
    "(iv)  Qual:   Previous level of degree qualification (Acategorical variable with four possible values: none, bachelors, masters, or phd.)\n",
    "\n",
    "#### Sample Size: 200\n",
    "***"
   ]
  },
  {
   "cell_type": "markdown",
   "metadata": {},
   "source": [
    "### Project Outline:\n",
    "\n",
    "#### Project Idea: Explore the factors influencing length of stay of dogs in a small animal shelter\n",
    "\n",
    "#### Variables:\n",
    "\n",
    "(i)    Stay: Length of stay in days - (Non-zero integer)\n",
    "\n",
    "(ii)   Age:  Age on admission - (Non-zero integer)\n",
    "\n",
    "(iii)  Gender: (A categorical variable with two possible values: Male, Female)\n",
    "\n",
    "(iv)    Coat Colour - (A categorical variable with three possible values: Grey/white/gold , brown , black)\n",
    "\n",
    "(v)   Neuter Status: (A categorical variable with two possible values: Neutered, Intact)\n",
    "\n",
    "(vi)   Size: Size of the breed - (A categorical variable with four possible values: small, medium, large, x-large)\n",
    " "
   ]
  },
  {
   "cell_type": "markdown",
   "metadata": {},
   "source": [
    "<BR>"
   ]
  },
  {
   "cell_type": "markdown",
   "metadata": {},
   "source": [
    "### Import Modules:"
   ]
  },
  {
   "cell_type": "code",
   "execution_count": 1,
   "metadata": {},
   "outputs": [],
   "source": [
    "import pandas as pd \n",
    "import numpy as np \n",
    "import matplotlib.pyplot as plt"
   ]
  },
  {
   "cell_type": "markdown",
   "metadata": {},
   "source": [
    "### Set up the Data Set:"
   ]
  },
  {
   "cell_type": "code",
   "execution_count": 2,
   "metadata": {},
   "outputs": [],
   "source": [
    "#Create a new Dataframe for the data\n",
    "\n",
    "#Use 3 decimal places in output display\n",
    "pd.set_option(\"display.precision\", 3)\n",
    "\n",
    "#Create the headers for the data\n",
    "df = pd.DataFrame() "
   ]
  },
  {
   "cell_type": "markdown",
   "metadata": {},
   "source": [
    "### Import Austin Data Set:"
   ]
  },
  {
   "cell_type": "code",
   "execution_count": 3,
   "metadata": {},
   "outputs": [],
   "source": [
    "# Read the data file.\n",
    "#df1 = pd.read_csv('https://query.data.world/s/4dhuacn0l3k8nw0f5strehu96',names = None , index_col = 0,header = 0)"
   ]
  },
  {
   "cell_type": "code",
   "execution_count": 4,
   "metadata": {},
   "outputs": [],
   "source": [
    "#df1.describe()"
   ]
  },
  {
   "cell_type": "code",
   "execution_count": null,
   "metadata": {},
   "outputs": [],
   "source": []
  },
  {
   "cell_type": "code",
   "execution_count": null,
   "metadata": {},
   "outputs": [],
   "source": []
  },
  {
   "cell_type": "markdown",
   "metadata": {},
   "source": [
    "<BR>"
   ]
  },
  {
   "cell_type": "markdown",
   "metadata": {},
   "source": [
    "### Simulating Key Variables:\n"
   ]
  },
  {
   "cell_type": "markdown",
   "metadata": {},
   "source": [
    "#### Relationship between Variables\n",
    "\n",
    "Gender: Male are adopted faster (20 days on average) than their female counterparts (22 days).\n",
    "\n",
    "https://data.world/rdowns26/austin-animal-shelter/workspace/file?filename=Project+Report.pdf\n",
    "\n",
    "Coat colour made no difference to length of stay. \n",
    "\n",
    "https://www.companionanimalpsychology.com/2013/03/what-influences-dogs-length-of-stay-at.html\n",
    "\n",
    "Black dogs did not take longer to be adopted. Brindle dogs and multi-colour dogs took longer \n",
    "\n",
    "Age: Puppies, the lapdogs were adopted soonest, with an average stay of just 13 days.\n",
    "\n",
    "https://www.companionanimalpsychology.com/2013/03/what-influences-dogs-length-of-stay-at.html\n",
    "\n",
    "The average time in custody for dogs over the age of 7 was M = 89 days, SD = 89 days with length of stay that had a range of 1–367 days in custody for dogs. The average length of stay of the general population is M = 51 days, SD = 64.\n",
    "\n",
    "https://www.ncbi.nlm.nih.gov/pmc/articles/PMC5867524/\n",
    "\n"
   ]
  },
  {
   "cell_type": "markdown",
   "metadata": {},
   "source": [
    "### Length of Stay:\n",
    "***\n",
    "\n",
    "#### Research:\n",
    "\n",
    "Median time for adoptions - 28 days (UK)\n",
    "\n",
    "https://www.researchgate.net/publication/244642863_Factors_affecting_time_to_adoption_of_dogs_re-homed_by_a_charity_in_the_UK\n",
    "\n",
    "https://veterinaryrecord.bmj.com/content/161/9/283.2\n",
    "\n",
    "Length of stay increased with age and was highest for medium-sized dogs and those considered to be in the guard breed. Length of stay was not found to be influenced by sex or coat color, and surprisingly dogs considered to be part of a “fighting” breed had a shorter length of stay than other breeds.\n",
    "\n",
    "The average length of stay during this period was 35 days. Puppies were adopted fastest, with a stay of 23 days for puppies under six months and 33 days for the older puppies. Adult dogs had an average wait of 42 days before they were adopted.\n",
    "\n",
    "https://faunalytics.org/effects-of-phenotypic-characteristics-on-the-length-of-stay-of-dogs-at-two-no-kill-animal-shelters-2/\n",
    "\n",
    "https://www.companionanimalpsychology.com/2013/03/what-influences-dogs-length-of-stay-at.html\n"
   ]
  },
  {
   "cell_type": "code",
   "execution_count": null,
   "metadata": {},
   "outputs": [],
   "source": []
  },
  {
   "cell_type": "markdown",
   "metadata": {},
   "source": [
    "#### Assumptions:"
   ]
  },
  {
   "cell_type": "code",
   "execution_count": null,
   "metadata": {},
   "outputs": [],
   "source": []
  },
  {
   "cell_type": "markdown",
   "metadata": {},
   "source": [
    "#### Simulating the Dataset:"
   ]
  },
  {
   "cell_type": "code",
   "execution_count": 5,
   "metadata": {},
   "outputs": [
    {
     "data": {
      "image/png": "[encoded data removed]",
      "text/plain": [
       "<Figure size 432x288 with 1 Axes>"
      ]
     },
     "metadata": {
      "needs_background": "light"
     },
     "output_type": "display_data"
    }
   ],
   "source": [
    "#Trial np.normal\n",
    "LOS1 =  np.random.normal(loc=22, scale=10, size=100)\n",
    "plt.hist(LOS1)\n",
    "plt.title(\"\\nSummary of Length of Stay of Dogs in Shelters\\n\")\n",
    "plt.xlabel(\"\\nLength of Stay (Days)\")\n",
    "plt.ylabel(\"\\nFrequency\\n\")\n",
    "plt.show()\n",
    "#I determined thatnp.random.normal did not reflect the breadth of values required so I opted for np.random.triangular()"
   ]
  },
  {
   "cell_type": "code",
   "execution_count": null,
   "metadata": {},
   "outputs": [],
   "source": []
  },
  {
   "cell_type": "code",
   "execution_count": 6,
   "metadata": {},
   "outputs": [
    {
     "name": "stdout",
     "output_type": "stream",
     "text": [
      "0     127.657\n",
      "1     176.429\n",
      "2     142.299\n",
      "3     126.626\n",
      "4      96.750\n",
      "       ...   \n",
      "95     45.657\n",
      "96    137.789\n",
      "97     13.398\n",
      "98    218.859\n",
      "99      6.991\n",
      "Name: Length of Stay (Days), Length: 100, dtype: float64\n"
     ]
    }
   ],
   "source": [
    "#Set seed to zero to produce a consistent result\n",
    "np.random.seed(0)\n",
    "\n",
    "#Use random.triangular() to create an array between 1 day and 365 days (1 year) skewed around 22 days\n",
    "LOS2 = (np.random.triangular (1, 22, 365, size=100))\n",
    "\n",
    "#Populate the 'Size' column with 100 samples aged 1 month to 13 years.\n",
    "df['Length of Stay (Days)'] = LOS2\n",
    "       \n",
    "#Show the dataset \n",
    "print(df['Length of Stay (Days)'])\n"
   ]
  },
  {
   "cell_type": "markdown",
   "metadata": {},
   "source": [
    "#### Plot the Result:"
   ]
  },
  {
   "cell_type": "code",
   "execution_count": 7,
   "metadata": {},
   "outputs": [
    {
     "data": {
      "image/png": "[encoded data removed]",
      "text/plain": [
       "<Figure size 432x288 with 1 Axes>"
      ]
     },
     "metadata": {
      "needs_background": "light"
     },
     "output_type": "display_data"
    }
   ],
   "source": [
    "plt.hist(LOS2)\n",
    "plt.title(\"\\nSummary of Length of Stay of Dogs in Shelters\\n\")\n",
    "plt.xlabel(\"\\nLength of Stay (Days)\")\n",
    "plt.ylabel(\"\\nFrequency\\n\")\n",
    "plt.show()"
   ]
  },
  {
   "cell_type": "markdown",
   "metadata": {},
   "source": [
    "<BR>"
   ]
  },
  {
   "cell_type": "markdown",
   "metadata": {},
   "source": [
    "### Age:\n",
    "***\n",
    "\n",
    "\n",
    "#### Research:\n",
    "\n",
    "47.7% of dogs surrendered were aged between 5 months and 3 years\n",
    "\n",
    "https://faunalytics.org/understanding-the-factors-that-lead-to-successful-dog-adoptions/\n",
    "\n",
    "Puppy (0-1 years) 26%; Adult (1-3 years) 66%; Adult (4-7 years)  Senior (7+) 9%\n",
    "\n",
    "https://data.world/rdowns26/austin-animal-shelter/workspace/file?filename=Austin_Animal_Center_Intakes.csv"
   ]
  },
  {
   "cell_type": "markdown",
   "metadata": {},
   "source": [
    "#### Assumptions - Expected Distribution:\n",
    "\n",
    "< 1 year     26%\n",
    "1 year       22%\n",
    "2 years      19%\n",
    "3 years      10%\n",
    "4 years       6%\n",
    "5 years       5%\n",
    "6 years       3%\n",
    "7-9 years +   5%\n",
    "10  years +   4%\n",
    "\n",
    "Based on Austin Dataset"
   ]
  },
  {
   "cell_type": "markdown",
   "metadata": {},
   "source": [
    "#### Simulating the Dataset:"
   ]
  },
  {
   "cell_type": "code",
   "execution_count": 8,
   "metadata": {},
   "outputs": [
    {
     "name": "stdout",
     "output_type": "stream",
     "text": [
      "0     54\n",
      "1     75\n",
      "2     60\n",
      "3     53\n",
      "4     40\n",
      "      ..\n",
      "95    18\n",
      "96    58\n",
      "97     5\n",
      "98    93\n",
      "99     3\n",
      "Name: Age (Mths), Length: 100, dtype: float64\n"
     ]
    }
   ],
   "source": [
    "# Simulating Age\n",
    "\n",
    "#Set seed to zero to produce a consistent result\n",
    "np.random.seed(0)\n",
    "\n",
    "# Use 3 decimal places in output display\n",
    "pd.set_option(\"display.precision\", 0)\n",
    "\n",
    "#Use random.triangular() to create an array between 1 month and 156 months (13 years) skewed around 6 months\n",
    "Age = (np.random.triangular (1, 6, 156, size=100))\n",
    "\n",
    "#Populate the 'Size' column with 100 samples aged 1 month to 13 years.\n",
    "df['Age (Mths)'] = Age\n",
    "       \n",
    "#Show the dataset \n",
    "print(df['Age (Mths)'])"
   ]
  },
  {
   "cell_type": "markdown",
   "metadata": {},
   "source": [
    "#### Plot the Result:"
   ]
  },
  {
   "cell_type": "code",
   "execution_count": 9,
   "metadata": {},
   "outputs": [
    {
     "data": {
      "image/png": "[encoded data removed]",
      "text/plain": [
       "<Figure size 432x288 with 1 Axes>"
      ]
     },
     "metadata": {
      "needs_background": "light"
     },
     "output_type": "display_data"
    }
   ],
   "source": [
    "plt.hist(Age)\n",
    "plt.title(\"\\nSummary of Age of Dogs in Shelters\\n\")\n",
    "plt.xlabel(\"\\nAge in Months\")\n",
    "plt.ylabel(\"\\nFrequency\\n\")\n",
    "plt.show()"
   ]
  },
  {
   "cell_type": "markdown",
   "metadata": {},
   "source": [
    "<BR>"
   ]
  },
  {
   "cell_type": "markdown",
   "metadata": {},
   "source": [
    "### Gender:\n",
    "***"
   ]
  },
  {
   "cell_type": "markdown",
   "metadata": {},
   "source": [
    "#### Research:\n",
    "\n",
    "Gender is simulated by numpy.random.choice() between 'Male' and 'Female' with assumed probability of 0.33 male and 0.67 female.  This probability is based on 36,000 dogs in the 'Austin animal shelter dataset' \n",
    "\n",
    "https://data.world/rdowns26/austin-animal-shelter/workspace/file?filename=Austin_Animal_Center_Intakes.csv\n",
    "\n",
    "This result was supported by a UK study of 16,000 shelter dogs which found that females were more likely to be adopted.\n",
    "\n",
    "https://www.companionanimalpsychology.com/2015/11/large-study-finds-no-evidence-for-black.html\n",
    "\n",
    "Close to equal numbers of male and female dogs were surrendered. \n",
    "\n",
    "https://www.companionanimalpsychology.com/2013/03/what-influences-dogs-length-of-stay-at.html"
   ]
  },
  {
   "cell_type": "markdown",
   "metadata": {},
   "source": [
    "#### Assumptions:\n",
    "\n",
    "Male   - 54%\n",
    "Female - 46%\n",
    "\n",
    "Based on Austin Dataset."
   ]
  },
  {
   "cell_type": "markdown",
   "metadata": {},
   "source": [
    "#### Simulating the Dataset"
   ]
  },
  {
   "cell_type": "code",
   "execution_count": 10,
   "metadata": {},
   "outputs": [
    {
     "name": "stdout",
     "output_type": "stream",
     "text": [
      "0     Female\n",
      "1     Female\n",
      "2     Female\n",
      "3     Female\n",
      "4       Male\n",
      "       ...  \n",
      "95      Male\n",
      "96    Female\n",
      "97      Male\n",
      "98    Female\n",
      "99      Male\n",
      "Name: Gender, Length: 100, dtype: object\n"
     ]
    }
   ],
   "source": [
    "#Create the Male/ Female object\n",
    "sex = ['Male','Female']\n",
    "\n",
    "#Set seed to zero to produce a consistent result\n",
    "np.random.seed(0)\n",
    "\n",
    "#Use random.choice () to create an array with a probability of 54%:46% male:female ratio & populate the 'Gender' column with male & female samples\n",
    "Gender = np.random.choice(sex, size = 100, replace = True, p = [0.54,0.46])\n",
    "df['Gender'] = Gender\n",
    "\n",
    "# Show the dataset \n",
    "print(df['Gender'])"
   ]
  },
  {
   "cell_type": "markdown",
   "metadata": {},
   "source": [
    "#### Plot the Result:"
   ]
  },
  {
   "cell_type": "code",
   "execution_count": 11,
   "metadata": {},
   "outputs": [
    {
     "data": {
      "image/png": "[encoded data removed]",
      "text/plain": [
       "<Figure size 432x288 with 1 Axes>"
      ]
     },
     "metadata": {
      "needs_background": "light"
     },
     "output_type": "display_data"
    }
   ],
   "source": [
    "plt.hist (Gender)\n",
    "plt.title(\"\\nGender of Dogs in Shelters\\n\")\n",
    "plt.xlabel(\"\\nGender\")\n",
    "plt.ylabel(\"\\nFrequency\\n\")\n",
    "plt.show()"
   ]
  },
  {
   "cell_type": "markdown",
   "metadata": {},
   "source": [
    "<BR>"
   ]
  },
  {
   "cell_type": "markdown",
   "metadata": {},
   "source": [
    "### Coat Colour:\n",
    "***\n",
    "\n",
    "#### Research:\n",
    "\n",
    "'Black dog syndrome' has been debated a great deal and remains inconclusive.\n",
    "\n",
    "#https://faunalytics.org/understanding-the-factors-that-lead-to-successful-dog-adoptions/\n",
    "\n",
    "The rehoming rate for black and non-black dogs was identical, at 88.5%.\n",
    "\n",
    "#https://faunalytics.org/understanding-the-factors-that-lead-to-successful-dog-adoptions/\n",
    "\n",
    "Black dogs did not take longer to be adopted at either of the two shelters taking part in this study. In fact, brindle dogs had a longer wait at both shelters, and multi-colour dogs also took longer at one of the shelters. Black dogs were not more likely to be euthanized. Age and breed group were more important than coat colour when it came to adoptability."
   ]
  },
  {
   "cell_type": "markdown",
   "metadata": {},
   "source": [
    "#### Assumptions:\n",
    "\n",
    "White/Grey/Gold     - 30%\n",
    "Black               - 30%\n",
    "Brown/Multi- Colour - 40%"
   ]
  },
  {
   "cell_type": "markdown",
   "metadata": {},
   "source": [
    "#### Simulating the Dataset:"
   ]
  },
  {
   "cell_type": "code",
   "execution_count": 12,
   "metadata": {},
   "outputs": [
    {
     "name": "stdout",
     "output_type": "stream",
     "text": [
      "0               Brown\n",
      "1               Black\n",
      "2               Brown\n",
      "3               Brown\n",
      "4               Brown\n",
      "           ...       \n",
      "95    White/Grey/Gold\n",
      "96              Brown\n",
      "97    White/Grey/Gold\n",
      "98              Black\n",
      "99    White/Grey/Gold\n",
      "Name: Coat Colour, Length: 100, dtype: object\n"
     ]
    }
   ],
   "source": [
    "#Create the Male/ Female object\n",
    "colour = ['White/Grey/Gold','Brown','Black']\n",
    "\n",
    "#Set seed to zero to produce a consistent result\n",
    "np.random.seed(0)\n",
    "\n",
    "#Use random.choice () to create an array with a probability of 33%:67% male:female ratio & populate the 'Gender' column with male & female samples\n",
    "Colour = np.random.choice(colour, size = 100, replace = True, p = [0.3,0.4,.3])\n",
    "df['Coat Colour'] = Colour\n",
    "\n",
    "# Show the dataset \n",
    "print(df['Coat Colour'])"
   ]
  },
  {
   "cell_type": "markdown",
   "metadata": {},
   "source": [
    "#### Plot the Result:"
   ]
  },
  {
   "cell_type": "code",
   "execution_count": 13,
   "metadata": {},
   "outputs": [
    {
     "data": {
      "image/png": "[encoded data removed]",
      "text/plain": [
       "<Figure size 432x288 with 1 Axes>"
      ]
     },
     "metadata": {
      "needs_background": "light"
     },
     "output_type": "display_data"
    }
   ],
   "source": [
    "plt.hist (Colour)\n",
    "plt.title(\"\\nColour of Dogs in Shelters\\n\")\n",
    "plt.xlabel(\"\\nColour\")\n",
    "plt.ylabel(\"\\nFrequency\\n\")\n",
    "plt.show()"
   ]
  },
  {
   "cell_type": "markdown",
   "metadata": {},
   "source": [
    "<BR>"
   ]
  },
  {
   "cell_type": "markdown",
   "metadata": {},
   "source": [
    "### Neuter Status\n",
    "***\n",
    "\n",
    "#### Research:\n",
    "\n",
    "Approximately half of the pets 53% percent of dogs surrendered were not neutered."
   ]
  },
  {
   "cell_type": "markdown",
   "metadata": {},
   "source": [
    "#### Assumptions:\n",
    "\n",
    "Neutered Male: 26%, Intact Male: 29%; Spayed Female: 21%; Non Spayed: 24%\n",
    "\n",
    "Source (Austin Dataset)"
   ]
  },
  {
   "cell_type": "markdown",
   "metadata": {},
   "source": [
    "#### Simulating the Dataset:"
   ]
  },
  {
   "cell_type": "code",
   "execution_count": 14,
   "metadata": {},
   "outputs": [
    {
     "name": "stdout",
     "output_type": "stream",
     "text": [
      "0           Intact Male\n",
      "1         Spayed Female\n",
      "2         Spayed Female\n",
      "3           Intact Male\n",
      "4           Intact Male\n",
      "            ...        \n",
      "95        Neutered Male\n",
      "96        Spayed Female\n",
      "97        Neutered Male\n",
      "98    Non Spayed Female\n",
      "99        Neutered Male\n",
      "Name: Neuter Status, Length: 100, dtype: object\n"
     ]
    }
   ],
   "source": [
    "#Create the Neutered/Intact Object\n",
    "Status = ['Neutered Male','Intact Male','Spayed Female','Non Spayed Female']\n",
    "\n",
    "#Set seed to zero to produce a consistent result\n",
    "np.random.seed(0)\n",
    "\n",
    "#Use random.choice () to create an array with a probability of 26%:29%:21%:24% \n",
    "Neuter_Status = np.random.choice(Status, size = 100, replace = True, p = [.26,.29,.21,.24])\n",
    "\n",
    "#Populate the 'Neuter Status' column with Neutered/Non Neutered samples\n",
    "df['Neuter Status'] = Neuter_Status\n",
    "\n",
    "# Show the dataset \n",
    "print(df['Neuter Status'])"
   ]
  },
  {
   "cell_type": "markdown",
   "metadata": {},
   "source": [
    "#### Plot the Results:"
   ]
  },
  {
   "cell_type": "code",
   "execution_count": 15,
   "metadata": {},
   "outputs": [
    {
     "data": {
      "image/png": "[encoded data removed]",
      "text/plain": [
       "<Figure size 432x288 with 1 Axes>"
      ]
     },
     "metadata": {
      "needs_background": "light"
     },
     "output_type": "display_data"
    }
   ],
   "source": [
    "plt.hist (Neuter_Status)\n",
    "plt.title(\"\\nNeuter Status of Dogs in Shelters\\n\")\n",
    "plt.xlabel(\"\\nNeuter Status\")\n",
    "plt.ylabel(\"\\nFrequency\\n\")\n",
    "plt.show()"
   ]
  },
  {
   "cell_type": "markdown",
   "metadata": {},
   "source": [
    "### Size\n",
    "***\n",
    "\n",
    "#### Research:\n",
    "\n",
    "There was an effect of size, with the XS dogs being adopted soonest, followed by the small dogs. The medium-sized dogs were the ones with the longest stay. The authors say that the XL dogs (such as St Bernards) were quite unique and likely were adopted out because of this. Some people may also have had size restrictions imposed by their landlords or condominium councils that meant they could only have a small or extra-small dog.\n",
    "\n",
    "https://www.companionanimalpsychology.com/2013/03/what-influences-dogs-length-of-stay-at.html"
   ]
  },
  {
   "attachments": {},
   "cell_type": "markdown",
   "metadata": {},
   "source": [
    "#### Assumptions:\n",
    "Small 30%; Medium 29%, Large 40%; X-Large 1%"
   ]
  },
  {
   "cell_type": "markdown",
   "metadata": {},
   "source": [
    "#### Simulating the Dataset:"
   ]
  },
  {
   "cell_type": "code",
   "execution_count": 16,
   "metadata": {},
   "outputs": [
    {
     "name": "stdout",
     "output_type": "stream",
     "text": [
      "0     Medium\n",
      "1      Large\n",
      "2      Large\n",
      "3     Medium\n",
      "4     Medium\n",
      "       ...  \n",
      "95     Small\n",
      "96    Medium\n",
      "97     Small\n",
      "98     Large\n",
      "99     Small\n",
      "Name: Size, Length: 100, dtype: object\n"
     ]
    }
   ],
   "source": [
    "#Create the Size Object\n",
    "Status = ['Small','Medium','Large','X-Large']\n",
    "\n",
    "#Set seed to zero to produce a consistent result\n",
    "np.random.seed(0)\n",
    "\n",
    "#Use random.choice () to create an array with a probability of 30%:29%:40%:1% \n",
    "Neuter_Status = np.random.choice(Status, size = 100, replace = True, p = [.3,.29,.4,.01])\n",
    "\n",
    "#Populate the 'Neuter Status' column with Neutered/Non Neutered samples\n",
    "df['Size'] = Neuter_Status\n",
    "\n",
    "# Show the dataset \n",
    "print(df['Size'])"
   ]
  },
  {
   "cell_type": "markdown",
   "metadata": {},
   "source": [
    "#### Plot the Results:"
   ]
  },
  {
   "cell_type": "code",
   "execution_count": 17,
   "metadata": {},
   "outputs": [
    {
     "data": {
      "image/png": "[encoded data removed]",
      "text/plain": [
       "<Figure size 432x288 with 1 Axes>"
      ]
     },
     "metadata": {
      "needs_background": "light"
     },
     "output_type": "display_data"
    }
   ],
   "source": [
    "plt.hist (Neuter_Status)\n",
    "plt.title(\"\\nSize of Dogs in Shelters\\n\")\n",
    "plt.xlabel(\"\\nSize\")\n",
    "plt.ylabel(\"\\nFrequency\\n\")\n",
    "plt.show()"
   ]
  },
  {
   "cell_type": "markdown",
   "metadata": {},
   "source": [
    "<BR>"
   ]
  },
  {
   "cell_type": "markdown",
   "metadata": {},
   "source": [
    "<BR>"
   ]
  },
  {
   "cell_type": "markdown",
   "metadata": {},
   "source": [
    "### Summary Dataset:\n",
    "***"
   ]
  },
  {
   "cell_type": "code",
   "execution_count": 18,
   "metadata": {},
   "outputs": [
    {
     "name": "stdout",
     "output_type": "stream",
     "text": [
      "    Length of Stay (Days)  Age (Mths)  Gender      Coat Colour  \\\n",
      "0                     128          54  Female            Brown   \n",
      "1                     176          75  Female            Black   \n",
      "2                     142          60  Female            Brown   \n",
      "3                     127          53  Female            Brown   \n",
      "4                      97          40    Male            Brown   \n",
      "..                    ...         ...     ...              ...   \n",
      "95                     46          18    Male  White/Grey/Gold   \n",
      "96                    138          58  Female            Brown   \n",
      "97                     13           5    Male  White/Grey/Gold   \n",
      "98                    219          93  Female            Black   \n",
      "99                      7           3    Male  White/Grey/Gold   \n",
      "\n",
      "        Neuter Status    Size  \n",
      "0         Intact Male  Medium  \n",
      "1       Spayed Female   Large  \n",
      "2       Spayed Female   Large  \n",
      "3         Intact Male  Medium  \n",
      "4         Intact Male  Medium  \n",
      "..                ...     ...  \n",
      "95      Neutered Male   Small  \n",
      "96      Spayed Female  Medium  \n",
      "97      Neutered Male   Small  \n",
      "98  Non Spayed Female   Large  \n",
      "99      Neutered Male   Small  \n",
      "\n",
      "[100 rows x 6 columns]\n"
     ]
    }
   ],
   "source": [
    "print(df)"
   ]
  },
  {
   "cell_type": "code",
   "execution_count": null,
   "metadata": {},
   "outputs": [],
   "source": []
  },
  {
   "cell_type": "code",
   "execution_count": null,
   "metadata": {},
   "outputs": [],
   "source": []
  },
  {
   "cell_type": "code",
   "execution_count": null,
   "metadata": {},
   "outputs": [],
   "source": []
  },
  {
   "cell_type": "code",
   "execution_count": null,
   "metadata": {},
   "outputs": [],
   "source": []
  },
  {
   "cell_type": "code",
   "execution_count": null,
   "metadata": {},
   "outputs": [],
   "source": []
  },
  {
   "cell_type": "markdown",
   "metadata": {},
   "source": [
    "### References:\n",
    "https://www.aspca.org/animal-homelessness/shelter-intake-and-surrender/pet-statistics\n",
    "\n",
    "https://www.petfinder.com/pet-adoption/dog-adoption/pets-relinquished-shelters/\n",
    "\n",
    "https://pubmed.ncbi.nlm.nih.gov/32575574/#&gid=article-figures&pid=figure-2-uid-1\n",
    "\n",
    "https://www.thejournal.ie/dogs-abandoned-5194543-Sep2020/\n",
    "\n",
    "https://news.orvis.com/dogs/when-is-it-time-to-surrender-your-dog\n",
    "\n",
    "https://faunalytics.org/understanding-the-factors-that-lead-to-successful-dog-adoptions/\n",
    "\n",
    "https://veterinaryrecord.bmj.com/content/161/9/283.2\n",
    "\n",
    "https://pubmed.ncbi.nlm.nih.gov/29557174/\n",
    "\n",
    "https://s3.amazonaws.com/cdn-origin-etr.akc.org/wp-content/uploads/2020/07/21083509/MACH-EndYear2019.pdf\n",
    "\n",
    "https://apnews.com/article/218042cf3f684525874f48ae990ed49b\n",
    "\n",
    "https://www.hillspet.com/dog-care/new-pet-parent/common-reasons-adopted-dogs-are-returned-to-shelters\n",
    "\n",
    "https://data.bloomington.in.gov/dataset/animal-care-and-control/resource/7a847ec2-31c6-48e3-b0bc-02af2fa94587\n",
    "\n",
    "https://www.companionanimalpsychology.com/2013/03/what-influences-dogs-length-of-stay-at.html\n",
    "\n",
    "Re-homing stats:\n",
    "https://data.world/rdowns26/austin-animal-shelter/workspace/file?filename=Project+Report.pdf\n",
    "\n",
    "Older dog study:\n",
    "https://www.ncbi.nlm.nih.gov/pmc/articles/PMC5867524/"
   ]
  },
  {
   "cell_type": "code",
   "execution_count": null,
   "metadata": {},
   "outputs": [],
   "source": []
  }
 ],
 "metadata": {
  "kernelspec": {
   "display_name": "Python 3",
   "language": "python",
   "name": "python3"
  },
  "language_info": {
   "codemirror_mode": {
    "name": "ipython",
    "version": 3
   },
   "file_extension": ".py",
   "mimetype": "text/x-python",
   "name": "python",
   "nbconvert_exporter": "python",
   "pygments_lexer": "ipython3",
   "version": "3.8.3"
  }
 },
 "nbformat": 4,
 "nbformat_minor": 4
}
