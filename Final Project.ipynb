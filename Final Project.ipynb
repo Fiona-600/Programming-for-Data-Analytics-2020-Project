{
 "cells": [
  {
   "cell_type": "markdown",
   "metadata": {},
   "source": [
    "### Problem Statement\n",
    "For this project you must create a data set by simulating a real-world phenomenon of your choosing.  You may pick any phenomenon you wish – you might pick one that is of interest to you in your personal or professional life.  \n",
    "\n",
    "Then, rather than collect data related to the phenomenon, you should model and synthesise such data using Python. We suggest you use the numpy.random package for this purpose.  Specifically, in this project you should:\n",
    "\n",
    "(i)   Choose a real-world phenomenon that can be measured and for which you could collect at least one-hundred data points across at least four different variables.\n",
    "\n",
    "(ii)  Investigate  the  types  of  variables  involved,  their  likely  distributions,  and  their relationships with each other.\n",
    "\n",
    "(iii) Synthesise/simulate a data set as closely matching their properties as possible.\n",
    "\n",
    "(iv)  Detail your research and implement the simulation in a Jupyter notebook – the data set itself can simply be     displayed in an output cell within the notebook.\n",
    "\n",
    "Note that this project is about simulation – you must synthesise a data set.  Some students may already have some real-world data sets in their own files.  It is okay to base your synthesised data set on these should you wish (please reference it if you do),but the main task in this project is to create a synthesised data set.  "
   ]
  },
  {
   "cell_type": "markdown",
   "metadata": {},
   "source": [
    "### Example Project Idea - A Real-world phenomenon of the performance of students studying a ten-credit module. \n",
    "\n",
    "After some research, I decide that the most interesting variable related to this is the mark a student receives in the module - this is going to be one of my variables (grade).\n",
    "\n",
    "Upon investigation of the problem, I find that the number of hours on average a student studies per week (hours), the number of times they log onto Moodle in the first three weeks of term (logins), and their previous level of degree qualification (qual) are closely related to grade. The hours and grade variables will be non-negative real number with two decimal places,logins will be a non-zero integer and qual will be acategorical variable with four possible values: none, bachelors, masters, or phd.\n",
    "\n",
    "After some online research, I find that full-time post-graduate students study on average four hours per week with a standard deviation of a quarter of an hour and that a normal distribution is an acceptable model of such a variable. Likewise, I investigate the other four variables, and I also look at the relationships between the variables. \n",
    "\n",
    "I devise an algorithm (or method) to generate such a data set, simulating values of the four variables for two-hundred students. I detail all this work in my notebook, and then I add some code in to generate a data set with those properties"
   ]
  },
  {
   "cell_type": "markdown",
   "metadata": {},
   "source": [
    "### Sample Project Outline:\n",
    "\n",
    "#### Project Idea: A Real-world phenomenon of the performance of students studying a ten-credit module.\n",
    "#### Variables:\n",
    "\n",
    "(i)   Grade:  Mark a student receives in the module (Non-negative real number with two decimal places)\n",
    "\n",
    "(ii)  Hours:  Number of hours on average a student studies per week (Non-negative real number with two decimal places)\n",
    "\n",
    "     (avge 4 hours per week with a std deviation of a 1/4 hr)  \n",
    "    \n",
    "(iii) Logins: The number of times they log onto Moodle in the first three weeks of term (Non-zero integer)\n",
    "\n",
    "(iv)  Qual:   Previous level of degree qualification (Acategorical variable with four possible values: none, bachelors, masters, or phd.)\n",
    "\n",
    "#### Sample Size: 200\n",
    "***"
   ]
  },
  {
   "cell_type": "markdown",
   "metadata": {},
   "source": [
    "### Project Outline:\n",
    "\n",
    "#### Project Idea: Explore the factors influencing length of stay of dog and cats in a small animal shelter\n",
    "\n",
    "#### Variables:\n",
    "\n",
    "(i)    Stay: Length of stay in days - (Non-zero integer)\n",
    "\n",
    "(ii)   Age:  Age on admission - (Non-zero integer)\n",
    "\n",
    "(iii)  Size: Size: Size of the breed - (A categorical variable with four possible values: small, medium, large, xlarge)\n",
    "\n",
    "(iv)   Sex: (A categorical variable with two possible values: Male, Female)\n",
    "\n",
    "(v)    Colour: Coat Colour - (A categorical variable with three possible values: Grey/white/gold , brown , black)\n",
    "\n",
    "Other Factors Condidered:\n",
    "\n",
    "(vi)   Neuter Status: (A categorical variable with two possible values: Neutered, Intact)\n",
    " "
   ]
  },
  {
   "cell_type": "markdown",
   "metadata": {},
   "source": [
    "### Research\n",
    "***"
   ]
  },
  {
   "cell_type": "markdown",
   "metadata": {},
   "source": [
    "### Consideration of Key Variables:"
   ]
  },
  {
   "cell_type": "markdown",
   "metadata": {},
   "source": [
    "### Length of Stay\n",
    "\n",
    "Median time for adoptions - 28 days (UK)\n",
    "\n",
    "https://www.researchgate.net/publication/244642863_Factors_affecting_time_to_adoption_of_dogs_re-homed_by_a_charity_in_the_UK\n",
    "\n",
    "https://veterinaryrecord.bmj.com/content/161/9/283.2\n",
    "\n",
    "https://pubmed.ncbi.nlm.nih.gov/29557174/\n",
    "\n",
    "The average time in custody for the cats included in the study (M = 68 days, SD = 73 days) was less than the average time in custody for dogs (M = 89 days, SD = 89 days) with length of stay that had a range of 1–348 days in custody for cats and 1–367 days in custody for dogs (Figure 1). \n",
    "\n",
    "The average time in custody for a random sample of 124 cats and 122 dogs that were in the care of APA over the same period, but not filtered for age over seven years, show that the senior cats and dogs have a longer average length of stay than the general population at APA (M = 57 days, SD = 48 days for general cat population; M = 51 days, SD = 64 for general dog population).\n",
    "\n",
    "https://www.ncbi.nlm.nih.gov/pmc/articles/PMC5867524/\n",
    "\n",
    "Length of stay increased with age and was highest for medium-sized dogs and those considered to be in the guard breed. Length was not found to be influenced by sex or coat color, and surprisingly dogs considered to be part of a “fighting” breed had a shorter length of stay than other breeds.\n",
    "\n",
    "The average length of stay during this period was 35 days. Puppies were adopted fastest, with a stay of 23 days for puppies under six months and 33 days for the older puppies. Adult dogs had an average wait of 42 days before they were adopted.\n",
    "\n",
    "https://faunalytics.org/effects-of-phenotypic-characteristics-on-the-length-of-stay-of-dogs-at-two-no-kill-animal-shelters-2/\n",
    "\n",
    "https://www.companionanimalpsychology.com/2013/03/what-influences-dogs-length-of-stay-at.html\n",
    "\n"
   ]
  },
  {
   "cell_type": "markdown",
   "metadata": {},
   "source": [
    "### Age\n",
    "\n"
   ]
  },
  {
   "cell_type": "markdown",
   "metadata": {},
   "source": [
    "### Size\n",
    "\n",
    "There was an effect of size, with the XS dogs being adopted soonest, followed by the small dogs. The medium-sized dogs were the ones with the longest stay. The authors say that the XL dogs (such as St Bernards) were quite unique and likely were adopted out because of this. Some people may also have had size restrictions imposed by their landlords or condominium councils that meant they could only have a small or extra-small dog.\n",
    "\n",
    "https://www.companionanimalpsychology.com/2013/03/what-influences-dogs-length-of-stay-at.html"
   ]
  },
  {
   "cell_type": "markdown",
   "metadata": {},
   "source": [
    "### Type"
   ]
  },
  {
   "cell_type": "markdown",
   "metadata": {},
   "source": [
    "### Coat Colour\n",
    "\n",
    "'Black dog syndrome' has been debated a great deal and remains inconclusive.\n",
    "#https://faunalytics.org/understanding-the-factors-that-lead-to-successful-dog-adoptions/\n",
    "\n",
    "The rehoming rate for black and non-black dogs was identical, at 88.5%.\n",
    "\n",
    "#https://faunalytics.org/understanding-the-factors-that-lead-to-successful-dog-adoptions/"
   ]
  },
  {
   "cell_type": "markdown",
   "metadata": {},
   "source": [
    "### Behavioural Issues\n",
    "\n",
    "The most commonly reported of these seven reasons for relinquishment of dogs were owner health (29%), animal behavioural problems (23%), housing issues (21%) and lack of time (14%).\n",
    "\n",
    "#https://pubmed.ncbi.nlm.nih.gov/32575574/\n",
    "\n",
    "Most dogs (96 percent) had not received any obedience training.\n",
    "\n",
    "#https://apnews.com/article/218042cf3f684525874f48ae990ed49b\n",
    "\n",
    "#2015 survey by the American Society for the Prevention of Cruelty to Animals (ASPCA):\n",
    "35 % were due to aggression, 29 % to destructive behavior, and 26 % to health problems.\n",
    "https://news.orvis.com/dogs/when-is-it-time-to-surrender-your-dog\n"
   ]
  },
  {
   "cell_type": "markdown",
   "metadata": {},
   "source": [
    "### Neuter Status\n",
    "Approximately half of the pets 42.8% percent of dogs surrendered were not neutered."
   ]
  },
  {
   "cell_type": "markdown",
   "metadata": {},
   "source": [
    "### Sex\n",
    "Close to equal numbers of male and female dogs were surrendered. \n",
    "\n",
    "https://www.companionanimalpsychology.com/2013/03/what-influences-dogs-length-of-stay-at.html"
   ]
  },
  {
   "cell_type": "markdown",
   "metadata": {},
   "source": [
    "### Breed\n",
    "\n",
    "Breed also played a role, with giant breeds having the shortest stay and guard dogs having the longest. \n",
    "https://www.companionanimalpsychology.com/2013/03/what-influences-dogs-length-of-stay-at.html"
   ]
  },
  {
   "cell_type": "code",
   "execution_count": 1,
   "metadata": {},
   "outputs": [],
   "source": [
    "# Pandas - for data frames.\n",
    "import pandas as pd"
   ]
  },
  {
   "cell_type": "code",
   "execution_count": 73,
   "metadata": {},
   "outputs": [
    {
     "data": {
      "text/html": [
       "<div>\n",
       "<style scoped>\n",
       "    .dataframe tbody tr th:only-of-type {\n",
       "        vertical-align: middle;\n",
       "    }\n",
       "\n",
       "    .dataframe tbody tr th {\n",
       "        vertical-align: top;\n",
       "    }\n",
       "\n",
       "    .dataframe thead th {\n",
       "        text-align: right;\n",
       "    }\n",
       "</style>\n",
       "<table border=\"1\" class=\"dataframe\">\n",
       "  <thead>\n",
       "    <tr style=\"text-align: right;\">\n",
       "      <th></th>\n",
       "      <th>Name</th>\n",
       "      <th>DateTime</th>\n",
       "      <th>MonthYear</th>\n",
       "      <th>Found Location</th>\n",
       "      <th>Intake Type</th>\n",
       "      <th>Intake Condition</th>\n",
       "      <th>Animal Type</th>\n",
       "      <th>Sex upon Intake</th>\n",
       "      <th>Age upon Intake</th>\n",
       "      <th>Breed</th>\n",
       "      <th>Color</th>\n",
       "    </tr>\n",
       "    <tr>\n",
       "      <th>Animal ID</th>\n",
       "      <th></th>\n",
       "      <th></th>\n",
       "      <th></th>\n",
       "      <th></th>\n",
       "      <th></th>\n",
       "      <th></th>\n",
       "      <th></th>\n",
       "      <th></th>\n",
       "      <th></th>\n",
       "      <th></th>\n",
       "      <th></th>\n",
       "    </tr>\n",
       "  </thead>\n",
       "  <tbody>\n",
       "    <tr>\n",
       "      <th>A730601</th>\n",
       "      <td>NaN</td>\n",
       "      <td>07/07/2016 12:11:00 PM</td>\n",
       "      <td>07/07/2016 12:11:00 PM</td>\n",
       "      <td>1109 Shady Ln in Austin (TX)</td>\n",
       "      <td>Stray</td>\n",
       "      <td>Normal</td>\n",
       "      <td>Cat</td>\n",
       "      <td>Intact Male</td>\n",
       "      <td>7 months</td>\n",
       "      <td>Domestic Shorthair Mix</td>\n",
       "      <td>Blue Tabby</td>\n",
       "    </tr>\n",
       "    <tr>\n",
       "      <th>A683644</th>\n",
       "      <td>*Zoey</td>\n",
       "      <td>07/13/2014 11:02:00 AM</td>\n",
       "      <td>07/13/2014 11:02:00 AM</td>\n",
       "      <td>Austin (TX)</td>\n",
       "      <td>Owner Surrender</td>\n",
       "      <td>Nursing</td>\n",
       "      <td>Dog</td>\n",
       "      <td>Intact Female</td>\n",
       "      <td>4 weeks</td>\n",
       "      <td>Border Collie Mix</td>\n",
       "      <td>Brown/White</td>\n",
       "    </tr>\n",
       "    <tr>\n",
       "      <th>A676515</th>\n",
       "      <td>Rico</td>\n",
       "      <td>04/11/2014 08:45:00 AM</td>\n",
       "      <td>04/11/2014 08:45:00 AM</td>\n",
       "      <td>615 E. Wonsley in Austin (TX)</td>\n",
       "      <td>Stray</td>\n",
       "      <td>Normal</td>\n",
       "      <td>Dog</td>\n",
       "      <td>Intact Male</td>\n",
       "      <td>2 months</td>\n",
       "      <td>Pit Bull Mix</td>\n",
       "      <td>White/Brown</td>\n",
       "    </tr>\n",
       "    <tr>\n",
       "      <th>A742953</th>\n",
       "      <td>NaN</td>\n",
       "      <td>01/31/2017 01:30:00 PM</td>\n",
       "      <td>01/31/2017 01:30:00 PM</td>\n",
       "      <td>S Hwy 183 And Thompson Lane in Austin (TX)</td>\n",
       "      <td>Stray</td>\n",
       "      <td>Normal</td>\n",
       "      <td>Dog</td>\n",
       "      <td>Intact Male</td>\n",
       "      <td>2 years</td>\n",
       "      <td>Saluki</td>\n",
       "      <td>Sable/Cream</td>\n",
       "    </tr>\n",
       "    <tr>\n",
       "      <th>A679549</th>\n",
       "      <td>*Gilbert</td>\n",
       "      <td>05/22/2014 03:43:00 PM</td>\n",
       "      <td>05/22/2014 03:43:00 PM</td>\n",
       "      <td>124 W Anderson in Austin (TX)</td>\n",
       "      <td>Stray</td>\n",
       "      <td>Normal</td>\n",
       "      <td>Cat</td>\n",
       "      <td>Intact Male</td>\n",
       "      <td>1 month</td>\n",
       "      <td>Domestic Shorthair Mix</td>\n",
       "      <td>Black/White</td>\n",
       "    </tr>\n",
       "    <tr>\n",
       "      <th>...</th>\n",
       "      <td>...</td>\n",
       "      <td>...</td>\n",
       "      <td>...</td>\n",
       "      <td>...</td>\n",
       "      <td>...</td>\n",
       "      <td>...</td>\n",
       "      <td>...</td>\n",
       "      <td>...</td>\n",
       "      <td>...</td>\n",
       "      <td>...</td>\n",
       "      <td>...</td>\n",
       "    </tr>\n",
       "    <tr>\n",
       "      <th>A746538</th>\n",
       "      <td>*Riley</td>\n",
       "      <td>04/04/2017 02:12:00 PM</td>\n",
       "      <td>04/04/2017 02:12:00 PM</td>\n",
       "      <td>2204 Fair Oaks Dr in Austin (TX)</td>\n",
       "      <td>Stray</td>\n",
       "      <td>Normal</td>\n",
       "      <td>Dog</td>\n",
       "      <td>Intact Male</td>\n",
       "      <td>8 years</td>\n",
       "      <td>German Shepherd Mix</td>\n",
       "      <td>Sable</td>\n",
       "    </tr>\n",
       "    <tr>\n",
       "      <th>A746735</th>\n",
       "      <td>NaN</td>\n",
       "      <td>04/08/2017 12:01:00 PM</td>\n",
       "      <td>04/08/2017 12:01:00 PM</td>\n",
       "      <td>1156 Cesar Chavez St in Austin (TX)</td>\n",
       "      <td>Stray</td>\n",
       "      <td>Normal</td>\n",
       "      <td>Dog</td>\n",
       "      <td>Intact Female</td>\n",
       "      <td>2 months</td>\n",
       "      <td>Australian Cattle Dog Mix</td>\n",
       "      <td>Chocolate/White</td>\n",
       "    </tr>\n",
       "    <tr>\n",
       "      <th>A746746</th>\n",
       "      <td>NaN</td>\n",
       "      <td>04/08/2017 01:06:00 PM</td>\n",
       "      <td>04/08/2017 01:06:00 PM</td>\n",
       "      <td>15405 Fuchs Grove Rd in Travis (TX)</td>\n",
       "      <td>Stray</td>\n",
       "      <td>Normal</td>\n",
       "      <td>Dog</td>\n",
       "      <td>Intact Male</td>\n",
       "      <td>1 year</td>\n",
       "      <td>Border Collie Mix</td>\n",
       "      <td>Black/White</td>\n",
       "    </tr>\n",
       "    <tr>\n",
       "      <th>A745969</th>\n",
       "      <td>*Persik</td>\n",
       "      <td>03/27/2017 11:36:00 AM</td>\n",
       "      <td>03/27/2017 11:36:00 AM</td>\n",
       "      <td>4529 Cleto St in Austin (TX)</td>\n",
       "      <td>Stray</td>\n",
       "      <td>Nursing</td>\n",
       "      <td>Cat</td>\n",
       "      <td>Unknown</td>\n",
       "      <td>2 weeks</td>\n",
       "      <td>Domestic Shorthair Mix</td>\n",
       "      <td>Cream Tabby</td>\n",
       "    </tr>\n",
       "    <tr>\n",
       "      <th>A744621</th>\n",
       "      <td>NaN</td>\n",
       "      <td>04/08/2017 01:16:00 PM</td>\n",
       "      <td>04/08/2017 01:16:00 PM</td>\n",
       "      <td>2323 Town Lake Circle in Austin (TX)</td>\n",
       "      <td>Stray</td>\n",
       "      <td>Normal</td>\n",
       "      <td>Cat</td>\n",
       "      <td>Intact Female</td>\n",
       "      <td>2 years</td>\n",
       "      <td>Domestic Shorthair Mix</td>\n",
       "      <td>Black</td>\n",
       "    </tr>\n",
       "  </tbody>\n",
       "</table>\n",
       "<p>63328 rows × 11 columns</p>\n",
       "</div>"
      ],
      "text/plain": [
       "               Name                DateTime               MonthYear  \\\n",
       "Animal ID                                                             \n",
       "A730601         NaN  07/07/2016 12:11:00 PM  07/07/2016 12:11:00 PM   \n",
       "A683644       *Zoey  07/13/2014 11:02:00 AM  07/13/2014 11:02:00 AM   \n",
       "A676515        Rico  04/11/2014 08:45:00 AM  04/11/2014 08:45:00 AM   \n",
       "A742953         NaN  01/31/2017 01:30:00 PM  01/31/2017 01:30:00 PM   \n",
       "A679549    *Gilbert  05/22/2014 03:43:00 PM  05/22/2014 03:43:00 PM   \n",
       "...             ...                     ...                     ...   \n",
       "A746538      *Riley  04/04/2017 02:12:00 PM  04/04/2017 02:12:00 PM   \n",
       "A746735         NaN  04/08/2017 12:01:00 PM  04/08/2017 12:01:00 PM   \n",
       "A746746         NaN  04/08/2017 01:06:00 PM  04/08/2017 01:06:00 PM   \n",
       "A745969     *Persik  03/27/2017 11:36:00 AM  03/27/2017 11:36:00 AM   \n",
       "A744621         NaN  04/08/2017 01:16:00 PM  04/08/2017 01:16:00 PM   \n",
       "\n",
       "                                       Found Location      Intake Type  \\\n",
       "Animal ID                                                                \n",
       "A730601                  1109 Shady Ln in Austin (TX)            Stray   \n",
       "A683644                                   Austin (TX)  Owner Surrender   \n",
       "A676515                 615 E. Wonsley in Austin (TX)            Stray   \n",
       "A742953    S Hwy 183 And Thompson Lane in Austin (TX)            Stray   \n",
       "A679549                 124 W Anderson in Austin (TX)            Stray   \n",
       "...                                               ...              ...   \n",
       "A746538              2204 Fair Oaks Dr in Austin (TX)            Stray   \n",
       "A746735           1156 Cesar Chavez St in Austin (TX)            Stray   \n",
       "A746746           15405 Fuchs Grove Rd in Travis (TX)            Stray   \n",
       "A745969                  4529 Cleto St in Austin (TX)            Stray   \n",
       "A744621          2323 Town Lake Circle in Austin (TX)            Stray   \n",
       "\n",
       "          Intake Condition Animal Type Sex upon Intake Age upon Intake  \\\n",
       "Animal ID                                                                \n",
       "A730601             Normal         Cat     Intact Male        7 months   \n",
       "A683644            Nursing         Dog   Intact Female         4 weeks   \n",
       "A676515             Normal         Dog     Intact Male        2 months   \n",
       "A742953             Normal         Dog     Intact Male         2 years   \n",
       "A679549             Normal         Cat     Intact Male         1 month   \n",
       "...                    ...         ...             ...             ...   \n",
       "A746538             Normal         Dog     Intact Male         8 years   \n",
       "A746735             Normal         Dog   Intact Female        2 months   \n",
       "A746746             Normal         Dog     Intact Male          1 year   \n",
       "A745969            Nursing         Cat         Unknown         2 weeks   \n",
       "A744621             Normal         Cat   Intact Female         2 years   \n",
       "\n",
       "                               Breed            Color  \n",
       "Animal ID                                              \n",
       "A730601       Domestic Shorthair Mix       Blue Tabby  \n",
       "A683644            Border Collie Mix      Brown/White  \n",
       "A676515                 Pit Bull Mix      White/Brown  \n",
       "A742953                       Saluki      Sable/Cream  \n",
       "A679549       Domestic Shorthair Mix      Black/White  \n",
       "...                              ...              ...  \n",
       "A746538          German Shepherd Mix            Sable  \n",
       "A746735    Australian Cattle Dog Mix  Chocolate/White  \n",
       "A746746            Border Collie Mix      Black/White  \n",
       "A745969       Domestic Shorthair Mix      Cream Tabby  \n",
       "A744621       Domestic Shorthair Mix            Black  \n",
       "\n",
       "[63328 rows x 11 columns]"
      ]
     },
     "execution_count": 73,
     "metadata": {},
     "output_type": "execute_result"
    }
   ],
   "source": [
    "# Read the data file.\n",
    "df1 = pd.read_csv('https://query.data.world/s/4dhuacn0l3k8nw0f5strehu96',names = None , index_col = 0,header = 0)\n",
    "df1"
   ]
  },
  {
   "cell_type": "code",
   "execution_count": null,
   "metadata": {},
   "outputs": [],
   "source": []
  },
  {
   "cell_type": "code",
   "execution_count": 3,
   "metadata": {},
   "outputs": [
    {
     "data": {
      "text/html": [
       "<div>\n",
       "<style scoped>\n",
       "    .dataframe tbody tr th:only-of-type {\n",
       "        vertical-align: middle;\n",
       "    }\n",
       "\n",
       "    .dataframe tbody tr th {\n",
       "        vertical-align: top;\n",
       "    }\n",
       "\n",
       "    .dataframe thead th {\n",
       "        text-align: right;\n",
       "    }\n",
       "</style>\n",
       "<table border=\"1\" class=\"dataframe\">\n",
       "  <thead>\n",
       "    <tr style=\"text-align: right;\">\n",
       "      <th></th>\n",
       "      <th>Name</th>\n",
       "      <th>DateTime</th>\n",
       "      <th>MonthYear</th>\n",
       "      <th>Found Location</th>\n",
       "      <th>Intake Type</th>\n",
       "      <th>Intake Condition</th>\n",
       "      <th>Animal Type</th>\n",
       "      <th>Sex upon Intake</th>\n",
       "      <th>Age upon Intake</th>\n",
       "      <th>Breed</th>\n",
       "      <th>Color</th>\n",
       "    </tr>\n",
       "  </thead>\n",
       "  <tbody>\n",
       "    <tr>\n",
       "      <th>count</th>\n",
       "      <td>44107</td>\n",
       "      <td>63328</td>\n",
       "      <td>63328</td>\n",
       "      <td>63328</td>\n",
       "      <td>63328</td>\n",
       "      <td>63328</td>\n",
       "      <td>63328</td>\n",
       "      <td>63327</td>\n",
       "      <td>63328</td>\n",
       "      <td>63328</td>\n",
       "      <td>63328</td>\n",
       "    </tr>\n",
       "    <tr>\n",
       "      <th>unique</th>\n",
       "      <td>12652</td>\n",
       "      <td>44879</td>\n",
       "      <td>44879</td>\n",
       "      <td>29660</td>\n",
       "      <td>5</td>\n",
       "      <td>8</td>\n",
       "      <td>5</td>\n",
       "      <td>5</td>\n",
       "      <td>46</td>\n",
       "      <td>1974</td>\n",
       "      <td>487</td>\n",
       "    </tr>\n",
       "    <tr>\n",
       "      <th>top</th>\n",
       "      <td>Bella</td>\n",
       "      <td>09/23/2016 12:00:00 PM</td>\n",
       "      <td>09/23/2016 12:00:00 PM</td>\n",
       "      <td>Austin (TX)</td>\n",
       "      <td>Stray</td>\n",
       "      <td>Normal</td>\n",
       "      <td>Dog</td>\n",
       "      <td>Intact Male</td>\n",
       "      <td>1 year</td>\n",
       "      <td>Domestic Shorthair Mix</td>\n",
       "      <td>Black/White</td>\n",
       "    </tr>\n",
       "    <tr>\n",
       "      <th>freq</th>\n",
       "      <td>292</td>\n",
       "      <td>64</td>\n",
       "      <td>64</td>\n",
       "      <td>11256</td>\n",
       "      <td>44686</td>\n",
       "      <td>55396</td>\n",
       "      <td>36173</td>\n",
       "      <td>20108</td>\n",
       "      <td>11618</td>\n",
       "      <td>18578</td>\n",
       "      <td>6572</td>\n",
       "    </tr>\n",
       "  </tbody>\n",
       "</table>\n",
       "</div>"
      ],
      "text/plain": [
       "         Name                DateTime               MonthYear Found Location  \\\n",
       "count   44107                   63328                   63328          63328   \n",
       "unique  12652                   44879                   44879          29660   \n",
       "top     Bella  09/23/2016 12:00:00 PM  09/23/2016 12:00:00 PM    Austin (TX)   \n",
       "freq      292                      64                      64          11256   \n",
       "\n",
       "       Intake Type Intake Condition Animal Type Sex upon Intake  \\\n",
       "count        63328            63328       63328           63327   \n",
       "unique           5                8           5               5   \n",
       "top          Stray           Normal         Dog     Intact Male   \n",
       "freq         44686            55396       36173           20108   \n",
       "\n",
       "       Age upon Intake                   Breed        Color  \n",
       "count            63328                   63328        63328  \n",
       "unique              46                    1974          487  \n",
       "top             1 year  Domestic Shorthair Mix  Black/White  \n",
       "freq             11618                   18578         6572  "
      ]
     },
     "execution_count": 3,
     "metadata": {},
     "output_type": "execute_result"
    }
   ],
   "source": [
    "df1.describe()"
   ]
  },
  {
   "cell_type": "code",
   "execution_count": 91,
   "metadata": {},
   "outputs": [],
   "source": [
    "# Import Modules:\n",
    "import pandas as pd \n",
    "import numpy as np \n",
    "import matplotlib.pyplot as plt"
   ]
  },
  {
   "cell_type": "code",
   "execution_count": 102,
   "metadata": {},
   "outputs": [
    {
     "data": {
      "text/html": [
       "<div>\n",
       "<style scoped>\n",
       "    .dataframe tbody tr th:only-of-type {\n",
       "        vertical-align: middle;\n",
       "    }\n",
       "\n",
       "    .dataframe tbody tr th {\n",
       "        vertical-align: top;\n",
       "    }\n",
       "\n",
       "    .dataframe thead th {\n",
       "        text-align: right;\n",
       "    }\n",
       "</style>\n",
       "<table border=\"1\" class=\"dataframe\">\n",
       "  <thead>\n",
       "    <tr style=\"text-align: right;\">\n",
       "      <th></th>\n",
       "      <th>Length of Stay</th>\n",
       "      <th>Age</th>\n",
       "      <th>Gender</th>\n",
       "      <th>Size</th>\n",
       "      <th>Colour</th>\n",
       "    </tr>\n",
       "  </thead>\n",
       "  <tbody>\n",
       "  </tbody>\n",
       "</table>\n",
       "</div>"
      ],
      "text/plain": [
       "Empty DataFrame\n",
       "Columns: [Length of Stay, Age, Gender, Size, Colour]\n",
       "Index: []"
      ]
     },
     "execution_count": 102,
     "metadata": {},
     "output_type": "execute_result"
    }
   ],
   "source": []
  },
  {
   "cell_type": "markdown",
   "metadata": {},
   "source": [
    "***"
   ]
  },
  {
   "cell_type": "markdown",
   "metadata": {},
   "source": [
    "### Length of Stay:\n",
    "Male are adopted faster (20 days on average) than their female counterparts (22 days).\n",
    "\n",
    "https://data.world/rdowns26/austin-animal-shelter/workspace/file?filename=Project+Report.pdf\n",
    "\n",
    "Coat colour made no difference to length of stay. \n",
    "\n",
    "https://www.companionanimalpsychology.com/2013/03/what-influences-dogs-length-of-stay-at.html\n",
    "\n",
    "Puppies, the lapdogs were adopted soonest, with an average stay of just 13 days.\n",
    "\n",
    "https://www.companionanimalpsychology.com/2013/03/what-influences-dogs-length-of-stay-at.html\n",
    "\n",
    "Coat colour made no difference to length of stay.\n",
    "\n",
    "https://www.companionanimalpsychology.com/2013/03/what-influences-dogs-length-of-stay-at.html"
   ]
  },
  {
   "cell_type": "markdown",
   "metadata": {},
   "source": [
    "#### Assumptions:"
   ]
  },
  {
   "cell_type": "code",
   "execution_count": null,
   "metadata": {},
   "outputs": [],
   "source": []
  },
  {
   "cell_type": "code",
   "execution_count": null,
   "metadata": {},
   "outputs": [],
   "source": []
  },
  {
   "cell_type": "markdown",
   "metadata": {},
   "source": [
    "### Simulating Age:\n",
    "\n",
    "\n",
    "#### Research:\n",
    "\n",
    "47.7% of dogs surrendered were aged between 5 months and 3 years; The majority of dogs 37.1% owned from 7 months to 1 year prior to surrender.\n",
    "\n",
    "https://faunalytics.org/understanding-the-factors-that-lead-to-successful-dog-adoptions/\n",
    "\n",
    "Puppy (0-1 years) 26%; Adult (1-3 years) 66%; Adult (4-7 years)  Senior (7+) 9%\n",
    "\n",
    "https://data.world/rdowns26/austin-animal-shelter/workspace/file?filename=Austin_Animal_Center_Intakes.csv"
   ]
  },
  {
   "cell_type": "markdown",
   "metadata": {},
   "source": [
    "<BR>\n",
    "\n"
   ]
  },
  {
   "cell_type": "markdown",
   "metadata": {},
   "source": [
    "#### Expected Distribution:\n",
    "\n",
    "< 1 year     26%\n",
    "1 year       22%\n",
    "2 years      19%\n",
    "3 years      10%\n",
    "4 years       6%\n",
    "5 years       5%\n",
    "6 years       3%\n",
    "7-9 years +   5%\n",
    "10  years +   4%\n",
    "\n",
    "Based on Austin Dataset"
   ]
  },
  {
   "cell_type": "markdown",
   "metadata": {},
   "source": [
    "<BR>"
   ]
  },
  {
   "cell_type": "code",
   "execution_count": 87,
   "metadata": {},
   "outputs": [
    {
     "name": "stdout",
     "output_type": "stream",
     "text": [
      "0     54\n",
      "1     75\n",
      "2     60\n",
      "3     53\n",
      "4     40\n",
      "      ..\n",
      "95    18\n",
      "96    58\n",
      "97     5\n",
      "98    93\n",
      "99     3\n",
      "Name: Size, Length: 100, dtype: float64\n"
     ]
    }
   ],
   "source": [
    "# Simulating Age\n",
    "\n",
    "#Set seed to zero to produce a consistent result\n",
    "np.random.seed(0)\n",
    "\n",
    "#Use random.triangular() to create an array between 1 month and 156 months (13 years) skewed around 6 months\n",
    "#Populate the 'Size' column with 100 samples aged 1 month to 13 years.\n",
    "\n",
    "# Use 3 decimal places in output display\n",
    "pd.set_option(\"display.precision\", 0)\n",
    "\n",
    "df['Size'] = (np.random.triangular (1, 6, 156, size=100))\n",
    "\n",
    "#Show the dataset \n",
    "print(df['Size'])"
   ]
  },
  {
   "cell_type": "code",
   "execution_count": 93,
   "metadata": {},
   "outputs": [
    {
     "data": {
      "image/png": "[encoded data removed]",
      "text/plain": [
       "<Figure size 432x288 with 1 Axes>"
      ]
     },
     "metadata": {
      "needs_background": "light"
     },
     "output_type": "display_data"
    }
   ],
   "source": [
    "plot1 = plt.hist(np.random.triangular(0, 2, 8, 10000), bins=10,density=True)"
   ]
  },
  {
   "cell_type": "markdown",
   "metadata": {},
   "source": [
    "***"
   ]
  },
  {
   "cell_type": "markdown",
   "metadata": {},
   "source": [
    "### Simulating Gender:\n",
    "\n",
    "Gender is simulated by numpy.random.choice() between 'Male' and 'Female' with assumed probability of 0.33 male and 0.67 female.  This probability is based on 36,000 dogs in the 'Austin animal shelter dataset' \n",
    "\n",
    "https://data.world/rdowns26/austin-animal-shelter/workspace/file?filename=Austin_Animal_Center_Intakes.csv\n",
    "\n",
    "This result was supported by a UK study of 16,000 shelter dogs which found that females were more likely to be adopted.\n",
    "\n",
    "https://www.companionanimalpsychology.com/2015/11/large-study-finds-no-evidence-for-black.html"
   ]
  },
  {
   "cell_type": "code",
   "execution_count": null,
   "metadata": {},
   "outputs": [],
   "source": [
    "#### Assumptions:\n",
    "\n",
    "Male   - 33%\n",
    "Female - 67%\n",
    "\n",
    "Based on Austin Dataset."
   ]
  },
  {
   "cell_type": "code",
   "execution_count": 56,
   "metadata": {},
   "outputs": [
    {
     "name": "stdout",
     "output_type": "stream",
     "text": [
      "0     Female\n",
      "1     Female\n",
      "2     Female\n",
      "3     Female\n",
      "4     Female\n",
      "       ...  \n",
      "95      Male\n",
      "96    Female\n",
      "97      Male\n",
      "98    Female\n",
      "99      Male\n",
      "Name: Gender, Length: 100, dtype: object\n"
     ]
    }
   ],
   "source": [
    "#Create the Male/ Female object\n",
    "sex = ['Male','Female']\n",
    "\n",
    "#Set seed to zero to produce a consistent result\n",
    "np.random.seed(0)\n",
    "\n",
    "#Use random.choice () to create an array with a probability of 33%:67% male:female ratio & populate the 'Gender' column with male & female samples\n",
    "df['Gender'] = np.random.choice(sex, size = 100, replace = True, p = [0.33,0.67])\n",
    "\n",
    "# Show the dataset \n",
    "print(df['Gender'])"
   ]
  },
  {
   "cell_type": "code",
   "execution_count": 98,
   "metadata": {},
   "outputs": [
    {
     "data": {
      "image/png": "[encoded data removed]",
      "text/plain": [
       "<Figure size 432x288 with 1 Axes>"
      ]
     },
     "metadata": {
      "needs_background": "light"
     },
     "output_type": "display_data"
    }
   ],
   "source": [
    "plot2 = plt.hist (np.random.choice(sex, size = 100, replace = True, p = [0.33,0.67]))"
   ]
  },
  {
   "cell_type": "markdown",
   "metadata": {},
   "source": [
    "***"
   ]
  },
  {
   "cell_type": "markdown",
   "metadata": {},
   "source": [
    "### Simulating Colour:\n",
    "\n",
    "'Black dog syndrome' has been debated a great deal and remains inconclusive.\n",
    "\n",
    "#https://faunalytics.org/understanding-the-factors-that-lead-to-successful-dog-adoptions/\n",
    "\n",
    "The rehoming rate for black and non-black dogs was identical, at 88.5%.\n",
    "\n",
    "#https://faunalytics.org/understanding-the-factors-that-lead-to-successful-dog-adoptions/\n",
    "\n",
    "Black dogs did not take longer to be adopted at either of the two shelters taking part in this study. In fact, brindle dogs had a longer wait at both shelters, and multi-colour dogs also took longer at one of the shelters. Black dogs were not more likely to be euthanized. Age and breed group were more important than coat colour when it came to adoptability."
   ]
  },
  {
   "cell_type": "markdown",
   "metadata": {},
   "source": [
    "#### Assumptions:\n",
    "\n",
    "White/Grey/Gold     - 30%\n",
    "Black               - 30%\n",
    "Brown/Multi- Colour - 40%"
   ]
  },
  {
   "cell_type": "code",
   "execution_count": 104,
   "metadata": {},
   "outputs": [
    {
     "name": "stdout",
     "output_type": "stream",
     "text": [
      "0               Brown\n",
      "1               Black\n",
      "2               Brown\n",
      "3               Brown\n",
      "4               Brown\n",
      "           ...       \n",
      "95    White/Grey/Gold\n",
      "96              Brown\n",
      "97    White/Grey/Gold\n",
      "98              Black\n",
      "99    White/Grey/Gold\n",
      "Name: Colour, Length: 100, dtype: object\n"
     ]
    }
   ],
   "source": [
    "#Create the Male/ Female object\n",
    "colour = ['White/Grey/Gold','Brown','Black']\n",
    "\n",
    "#Set seed to zero to produce a consistent result\n",
    "np.random.seed(0)\n",
    "\n",
    "#Use random.choice () to create an array with a probability of 33%:67% male:female ratio & populate the 'Gender' column with male & female samples\n",
    "df['Colour'] = np.random.choice(colour, size = 100, replace = True, p = [0.3,0.4,.3])\n",
    "\n",
    "# Show the dataset \n",
    "print(df['Colour'])"
   ]
  },
  {
   "cell_type": "code",
   "execution_count": 99,
   "metadata": {},
   "outputs": [
    {
     "data": {
      "image/png": "[encoded data removed]",
      "text/plain": [
       "<Figure size 432x288 with 1 Axes>"
      ]
     },
     "metadata": {
      "needs_background": "light"
     },
     "output_type": "display_data"
    }
   ],
   "source": [
    "plot3 = plt.hist (np.random.choice(colour, size = 100, replace = True, p = [0.3,0.4,.3]))"
   ]
  },
  {
   "cell_type": "markdown",
   "metadata": {},
   "source": [
    "***"
   ]
  },
  {
   "cell_type": "code",
   "execution_count": 110,
   "metadata": {},
   "outputs": [
    {
     "name": "stdout",
     "output_type": "stream",
     "text": [
      "Empty DataFrame\n",
      "Columns: [Length of Stay, Age, Gender, Colour]\n",
      "Index: []\n"
     ]
    },
    {
     "data": {
      "text/plain": [
       "('Length of Stay', 'Age', 'Gender', 'Size', 'Colour')"
      ]
     },
     "execution_count": 110,
     "metadata": {},
     "output_type": "execute_result"
    }
   ],
   "source": [
    "#Create a new Dataframe for the data\n",
    "\n",
    "#Use 3 decimal places in output display\n",
    "pd.set_option(\"display.precision\", 3)\n",
    "\n",
    "#Create the headers for the data\n",
    "df = pd.DataFrame (columns = ['Length of Stay','Age','Gender','Colour'])\n",
    "\n",
    "#Show the dataframe\n",
    "print(df)\n",
    "'Length of Stay','Age','Gender','Size','Colour'"
   ]
  },
  {
   "cell_type": "code",
   "execution_count": 108,
   "metadata": {},
   "outputs": [
    {
     "data": {
      "text/html": [
       "<div>\n",
       "<style scoped>\n",
       "    .dataframe tbody tr th:only-of-type {\n",
       "        vertical-align: middle;\n",
       "    }\n",
       "\n",
       "    .dataframe tbody tr th {\n",
       "        vertical-align: top;\n",
       "    }\n",
       "\n",
       "    .dataframe thead th {\n",
       "        text-align: right;\n",
       "    }\n",
       "</style>\n",
       "<table border=\"1\" class=\"dataframe\">\n",
       "  <thead>\n",
       "    <tr style=\"text-align: right;\">\n",
       "      <th></th>\n",
       "      <th>Length of Stay</th>\n",
       "      <th>Age</th>\n",
       "      <th>Gender</th>\n",
       "      <th>Size</th>\n",
       "      <th>Colour</th>\n",
       "    </tr>\n",
       "  </thead>\n",
       "  <tbody>\n",
       "  </tbody>\n",
       "</table>\n",
       "</div>"
      ],
      "text/plain": [
       "Empty DataFrame\n",
       "Columns: [Length of Stay, Age, Gender, Size, Colour]\n",
       "Index: []"
      ]
     },
     "execution_count": 108,
     "metadata": {},
     "output_type": "execute_result"
    }
   ],
   "source": [
    "#Display the DataFrame, rounding continuous variables to two decimal places\n",
    "df.round({'Length of Stay':2,'Age':2,'Gender':2,'Colour':2})"
   ]
  },
  {
   "cell_type": "code",
   "execution_count": null,
   "metadata": {},
   "outputs": [],
   "source": []
  },
  {
   "cell_type": "code",
   "execution_count": null,
   "metadata": {},
   "outputs": [],
   "source": []
  },
  {
   "cell_type": "code",
   "execution_count": null,
   "metadata": {},
   "outputs": [],
   "source": []
  },
  {
   "cell_type": "code",
   "execution_count": null,
   "metadata": {},
   "outputs": [],
   "source": []
  },
  {
   "cell_type": "code",
   "execution_count": null,
   "metadata": {},
   "outputs": [],
   "source": []
  },
  {
   "cell_type": "code",
   "execution_count": null,
   "metadata": {},
   "outputs": [],
   "source": []
  },
  {
   "cell_type": "markdown",
   "metadata": {},
   "source": [
    "### References:\n",
    "https://www.aspca.org/animal-homelessness/shelter-intake-and-surrender/pet-statistics\n",
    "\n",
    "https://www.petfinder.com/pet-adoption/dog-adoption/pets-relinquished-shelters/\n",
    "\n",
    "https://pubmed.ncbi.nlm.nih.gov/32575574/#&gid=article-figures&pid=figure-2-uid-1\n",
    "\n",
    "https://www.thejournal.ie/dogs-abandoned-5194543-Sep2020/\n",
    "\n",
    "https://news.orvis.com/dogs/when-is-it-time-to-surrender-your-dog\n",
    "\n",
    "https://faunalytics.org/understanding-the-factors-that-lead-to-successful-dog-adoptions/\n",
    "\n",
    "https://veterinaryrecord.bmj.com/content/161/9/283.2\n",
    "\n",
    "https://pubmed.ncbi.nlm.nih.gov/29557174/\n",
    "\n",
    "https://s3.amazonaws.com/cdn-origin-etr.akc.org/wp-content/uploads/2020/07/21083509/MACH-EndYear2019.pdf\n",
    "\n",
    "https://apnews.com/article/218042cf3f684525874f48ae990ed49b\n",
    "\n",
    "https://www.hillspet.com/dog-care/new-pet-parent/common-reasons-adopted-dogs-are-returned-to-shelters\n",
    "\n",
    "https://data.bloomington.in.gov/dataset/animal-care-and-control/resource/7a847ec2-31c6-48e3-b0bc-02af2fa94587\n",
    "\n",
    "https://www.companionanimalpsychology.com/2013/03/what-influences-dogs-length-of-stay-at.html\n",
    "\n",
    "Re-homing stats:\n",
    "https://data.world/rdowns26/austin-animal-shelter/workspace/file?filename=Project+Report.pdf\n",
    "\n",
    "Older dog study:\n",
    "https://www.ncbi.nlm.nih.gov/pmc/articles/PMC5867524/"
   ]
  },
  {
   "cell_type": "code",
   "execution_count": null,
   "metadata": {},
   "outputs": [],
   "source": []
  }
 ],
 "metadata": {
  "kernelspec": {
   "display_name": "Python 3",
   "language": "python",
   "name": "python3"
  },
  "language_info": {
   "codemirror_mode": {
    "name": "ipython",
    "version": 3
   },
   "file_extension": ".py",
   "mimetype": "text/x-python",
   "name": "python",
   "nbconvert_exporter": "python",
   "pygments_lexer": "ipython3",
   "version": "3.8.3"
  }
 },
 "nbformat": 4,
 "nbformat_minor": 4
}
