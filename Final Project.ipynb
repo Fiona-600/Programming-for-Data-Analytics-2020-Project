{
 "cells": [
  {
   "cell_type": "markdown",
   "metadata": {},
   "source": [
    "### Problem Statement\n",
    "For this project you must create a data set by simulating a real-world phenomenon of your choosing.  You may pick any phenomenon you wish – you might pick one that is of interest to you in your personal or professional life.  \n",
    "\n",
    "Then, rather than collect data related to the phenomenon, you should model and synthesise such data using Python. We suggest you use the numpy.random package for this purpose.  Specifically, in this project you should:\n",
    "\n",
    "(i)   Choose a real-world phenomenon that can be measured and for which you could collect at least one-hundred data points across at least four different variables.\n",
    "\n",
    "(ii)  Investigate  the  types  of  variables  involved,  their  likely  distributions,  and  their relationships with each other.\n",
    "\n",
    "(iii) Synthesise/simulate a data set as closely matching their properties as possible.\n",
    "\n",
    "(iv)  Detail your research and implement the simulation in a Jupyter notebook – the data set itself can simply be     displayed in an output cell within the notebook.\n",
    "\n",
    "Note that this project is about simulation – you must synthesise a data set.  Some students may already have some real-world data sets in their own files.  It is okay to base your synthesised data set on these should you wish (please reference it if you do),but the main task in this project is to create a synthesised data set.  "
   ]
  },
  {
   "cell_type": "markdown",
   "metadata": {},
   "source": [
    "### Example Project Idea - A Real-world phenomenon of the performance of students studying a ten-credit module. \n",
    "\n",
    "After some research, I decide that the most interesting variable related to this is the mark a student receives in the module - this is going to be one of my variables (grade).\n",
    "\n",
    "Upon investigation of the problem, I find that the number of hours on average a student studies per week (hours), the number of times they log onto Moodle in the first three weeks of term (logins), and their previous level of degree qualification (qual) are closely related to grade. The hours and grade variables will be non-negative real number with two decimal places,logins will be a non-zero integer and qual will be acategorical variable with four possible values: none, bachelors, masters, or phd.\n",
    "\n",
    "After some online research, I find that full-time post-graduate students study on average four hours per week with a standard deviation of a quarter of an hour and that a normal distribution is an acceptable model of such a variable. Likewise, I investigate the other four variables, and I also look at the relationships between the variables. \n",
    "\n",
    "I devise an algorithm (or method) to generate such a data set, simulating values of the four variables for two-hundred students. I detail all this work in my notebook, and then I add some code in to generate a data set with those properties"
   ]
  },
  {
   "cell_type": "markdown",
   "metadata": {},
   "source": [
    "### Sample Project Outline:\n",
    "\n",
    "#### Project Idea: A Real-world phenomenon of the performance of students studying a ten-credit module.\n",
    "#### Variables:\n",
    "\n",
    "(i)   Grade:  Mark a student receives in the module (Non-negative real number with two decimal places)\n",
    "\n",
    "(ii)  Hours:  Number of hours on average a student studies per week (Non-negative real number with two decimal places)\n",
    "\n",
    "     (avge 4 hours per week with a std deviation of a 1/4 hr)  \n",
    "    \n",
    "(iii) Logins: The number of times they log onto Moodle in the first three weeks of term (Non-zero integer)\n",
    "\n",
    "(iv)  Qual:   Previous level of degree qualification (Acategorical variable with four possible values: none, bachelors, masters, or phd.)\n",
    "\n",
    "#### Sample Size: 200"
   ]
  },
  {
   "cell_type": "code",
   "execution_count": null,
   "metadata": {},
   "outputs": [],
   "source": []
  },
  {
   "cell_type": "markdown",
   "metadata": {},
   "source": [
    "### Project Outline:\n",
    "\n",
    "#### Project Idea: \n",
    "\n",
    "#### Variables:\n",
    "\n",
    "(i)\n",
    "\n",
    "(ii)\n",
    "\n",
    "(iii)\n",
    "\n",
    "(iv)\n",
    "\n",
    "\n",
    "Non-negative real numbers with two decimal places\n",
    "Non-zero integer \n",
    "Acategorical variable with four possible values: none, bachelors, masters, or phd."
   ]
  },
  {
   "cell_type": "code",
   "execution_count": null,
   "metadata": {},
   "outputs": [],
   "source": []
  },
  {
   "cell_type": "markdown",
   "metadata": {},
   "source": [
    "Project Idea:Agility Winners\n",
    "\n",
    "Variables:\n",
    "\n",
    "(i)Breed - Competing 25% Border Collie; 14% Shetland Sheepdogs \n",
    "\n",
    "(ii)Age - Age range 2 - 14 years old, with four-year-olds dominating. The average age of a competing dog is 7.\n",
    "\n",
    "(iii)Sex\n",
    "\n",
    "(iv)Previous wins"
   ]
  },
  {
   "cell_type": "code",
   "execution_count": 5,
   "metadata": {},
   "outputs": [],
   "source": [
    "#https://www.akc.org/expert-advice/news/9-dog-agility-stats-prove-odds-favor/"
   ]
  },
  {
   "cell_type": "code",
   "execution_count": null,
   "metadata": {},
   "outputs": [],
   "source": []
  },
  {
   "cell_type": "code",
   "execution_count": null,
   "metadata": {},
   "outputs": [],
   "source": [
    "Project Idea: Likelihood of surrender of a dog to a shelter\n",
    "\n",
    "Variables:\n",
    "\n",
    "(i)   Behaviour Training - Yes or No\n",
    "\n",
    "(ii)  Source of Acquisition - (Acategorical variable with four possible values: Shelter, Friend/Relative, Breeder,Other)\n",
    "\n",
    "(iii) Size/Breed?  (Acategorical variable with four possible values: Time in the shelter, Original Source\n",
    "\n",
    "(iv)  Age #47.7% were between 5 months and 3 years; The majority of dogs 37.1% owned from 7 months to 1 year."
   ]
  },
  {
   "cell_type": "markdown",
   "metadata": {},
   "source": [
    "Median time for adoptions - 28 days (Size (small/Med/Large), purebred, Neuter status, age, health, Coat Colour - Grey/White/Gold vs Black)\n",
    "#https://veterinaryrecord.bmj.com/content/161/9/283.2\n",
    "#https://pubmed.ncbi.nlm.nih.gov/29557174/"
   ]
  },
  {
   "cell_type": "markdown",
   "metadata": {},
   "source": [
    "The most commonly reported of these seven reasons for relinquishment of dogs were owner health (29%), animal behavioural problems (23%), housing issues (21%) and lack of time (14%). \n",
    "#https://pubmed.ncbi.nlm.nih.gov/32575574/\n",
    "\n",
    "Approximately half of the pets 42.8% percent of dogs surrendered were not neutered.\n",
    "Many of the pets relinquished (33 percent of dogs; 46.9 percent of cats) had not been to a veterinarian.\n",
    "Animals acquired from friends were relinquished in higher numbers - 31.4 percent of dogs than from any other source. Close to equal numbers of male and female dogs were surrendered. \n",
    "Most dogs (96 percent) had not received any obedience training.\n",
    "\n",
    "#https://apnews.com/article/218042cf3f684525874f48ae990ed49b\n"
   ]
  },
  {
   "cell_type": "markdown",
   "metadata": {},
   "source": [
    "The rehoming rate was 88.5%, and that 12% of the population was admitted to the shelter more than once.  \n",
    "\n",
    "For puppies, the rehoming rate was 92.2%, while the oldest age group had about half those odds. \n",
    "According to the study, “the odds of release within a week (Length of Stay ≤ 7 days) of intake also decreased \n",
    "progressively with increasing age.” \n",
    "What’s more, the rehoming rate for black and non-black dogs was identical, at 88.5%.\n",
    "#https://faunalytics.org/understanding-the-factors-that-lead-to-successful-dog-adoptions/\n",
    "\n",
    "A 2013 study by the American Humane Association found that one in ten pets adopted from a shelter were no longer in the home six months later.\n",
    "#https://www.hillspet.com/dog-care/new-pet-parent/common-reasons-adopted-dogs-are-returned-to-shelters"
   ]
  },
  {
   "cell_type": "code",
   "execution_count": null,
   "metadata": {},
   "outputs": [],
   "source": [
    "Re-homing stats:\n",
    "https://data.world/rdowns26/austin-animal-shelter/workspace/file?filename=Project+Report.pdf\n",
    "    \n",
    "    "
   ]
  },
  {
   "cell_type": "code",
   "execution_count": null,
   "metadata": {},
   "outputs": [],
   "source": [
    "Project Idea: Likelihood of Surrender\n",
    "\n",
    "Variables:\n",
    "\n",
    "(i)Behaviour Training - Yes or No\n",
    "\n",
    "(ii)Source of Acquisition - Shelter, Friend/Relative, Breeder\n",
    "\n",
    "(iii)Neutered - Yes or No\n",
    "\n",
    "(iv)Age #47.7% were between 5 months and 3 years; The majority of dogs 37.1% owned from 7 months to 1 year."
   ]
  },
  {
   "cell_type": "code",
   "execution_count": null,
   "metadata": {},
   "outputs": [],
   "source": [
    "#Research\n",
    "\n",
    "Total dogs owned in the US - 78million\n",
    "\n",
    "Source:\n",
    "Animal Shelter/Humane Society    23%\n",
    "Friends/Relatives                20%\n",
    "Breeder                          34%\n",
    "Stray                             6%\n",
    "Other                            17%\n",
    "https://www.petfinder.com/pet-adoption/dog-adoption/pets-relinquished-shelters/\n",
    "\n",
    "\n",
    "#2015 survey by the American Society for the Prevention of Cruelty to Animals (ASPCA):\n",
    "35 % were due to aggression, 29 % to destructive behavior, and 26 % to health problems.\n",
    "https://news.orvis.com/dogs/when-is-it-time-to-surrender-your-dog\n",
    "    \n",
    "#https://faunalytics.org/understanding-the-factors-that-lead-to-successful-dog-adoptions/\n",
    "Among the highly variable studies, some have found that younger, female, and purebred dogs are more likely to be adopted, while “black dog syndrome” has been debated a great deal and remains inconclusive."
   ]
  },
  {
   "cell_type": "code",
   "execution_count": null,
   "metadata": {},
   "outputs": [],
   "source": []
  },
  {
   "cell_type": "markdown",
   "metadata": {},
   "source": [
    "### References:\n",
    "https://www.aspca.org/animal-homelessness/shelter-intake-and-surrender/pet-statistics\n",
    "\n",
    "https://www.petfinder.com/pet-adoption/dog-adoption/pets-relinquished-shelters/\n",
    "\n",
    "https://pubmed.ncbi.nlm.nih.gov/32575574/#&gid=article-figures&pid=figure-2-uid-1\n",
    "\n",
    "https://www.thejournal.ie/dogs-abandoned-5194543-Sep2020/\n",
    "\n",
    "https://news.orvis.com/dogs/when-is-it-time-to-surrender-your-dog\n",
    "\n",
    "https://faunalytics.org/understanding-the-factors-that-lead-to-successful-dog-adoptions/\n",
    "\n",
    "#https://veterinaryrecord.bmj.com/content/161/9/283.2\n",
    "\n",
    "#https://pubmed.ncbi.nlm.nih.gov/29557174/\n",
    "\n",
    "#https://s3.amazonaws.com/cdn-origin-etr.akc.org/wp-content/uploads/2020/07/21083509/MACH-EndYear2019.pdf\n",
    "\n",
    "#https://apnews.com/article/218042cf3f684525874f48ae990ed49b\n",
    "\n",
    "https://www.hillspet.com/dog-care/new-pet-parent/common-reasons-adopted-dogs-are-returned-to-shelters\n",
    "\n",
    "https://data.bloomington.in.gov/dataset/animal-care-and-control/resource/7a847ec2-31c6-48e3-b0bc-02af2fa94587\n",
    "\n"
   ]
  },
  {
   "cell_type": "code",
   "execution_count": null,
   "metadata": {},
   "outputs": [],
   "source": []
  }
 ],
 "metadata": {
  "kernelspec": {
   "display_name": "Python 3",
   "language": "python",
   "name": "python3"
  },
  "language_info": {
   "codemirror_mode": {
    "name": "ipython",
    "version": 3
   },
   "file_extension": ".py",
   "mimetype": "text/x-python",
   "name": "python",
   "nbconvert_exporter": "python",
   "pygments_lexer": "ipython3",
   "version": "3.8.3"
  }
 },
 "nbformat": 4,
 "nbformat_minor": 4
}
