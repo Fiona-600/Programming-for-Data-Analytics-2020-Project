{
 "cells": [
  {
   "cell_type": "markdown",
   "metadata": {},
   "source": [
    "### Project 2020\n",
    "\n",
    "### Programming for Data Analysis\n"
   ]
  },
  {
   "cell_type": "markdown",
   "metadata": {},
   "source": [
    "This project creates and models a simulated data set related to a chosen real-world phenomenon using the numpy.random package in Python.  This approach is taken rather than collecting the data.\n",
    "\n",
    "The elements explored will be:\n",
    "\n",
    "(i)   Choose a real-world phenomenon that can be measured and for which you could collect at least one-hundred data points across at least four different variables.\n",
    "\n",
    "(ii)  Investigate  the  types  of  variables  involved,  their  likely  distributions,  and  their relationships with each other.\n",
    "\n",
    "(iii) Synthesise/simulate a data set as closely matching their properties as possible.\n",
    "\n",
    "(iv)  Detail your research and implement the simulation in a Jupyter notebook – the data set itself can simply be     displayed in an output cell within the notebook."
   ]
  },
  {
   "cell_type": "markdown",
   "metadata": {},
   "source": [
    "### Project Outline:\n",
    "\n",
    "#### Factors affecting length of stay of dogs in animal shelters \n",
    "\n",
    "For this project I based the simulated data on the real world phenomenon of factors that contribute to the duration of a dog's length of stay in an animal shelter from entry to adoptions.\n",
    "\n",
    "I concluded the main measurable factors that influence the duration of a dog's stay are:\n",
    "    \n",
    "    * Age\n",
    "    * Gender\n",
    "    * Coat Colour    \n",
    "    * Size\n",
    "\n",
    "I will explore each of these factors in the following sections and how they combined to affect a dog's likelyhood of achieing a speedy adoption."
   ]
  },
  {
   "cell_type": "markdown",
   "metadata": {},
   "source": [
    "### Import Modules:"
   ]
  },
  {
   "cell_type": "code",
   "execution_count": 1,
   "metadata": {},
   "outputs": [],
   "source": [
    "import pandas as pd \n",
    "import numpy as np \n",
    "import matplotlib.pyplot as plt\n",
    "import seaborn as sns"
   ]
  },
  {
   "cell_type": "markdown",
   "metadata": {},
   "source": [
    "### Set up the Data Set:"
   ]
  },
  {
   "cell_type": "code",
   "execution_count": 2,
   "metadata": {},
   "outputs": [],
   "source": [
    "#Create a new Dataframe for the data\n",
    "\n",
    "pd.set_option(\"display.precision\", 1) #Use 3 decimal places in output display\n",
    "df = pd.DataFrame() #Create the headers for the data"
   ]
  },
  {
   "cell_type": "markdown",
   "metadata": {},
   "source": [
    "### Import Austin Data Set:"
   ]
  },
  {
   "cell_type": "code",
   "execution_count": 3,
   "metadata": {},
   "outputs": [],
   "source": [
    "# Read the data file.\n",
    "#df1 = pd.read_csv('https://query.data.world/s/4dhuacn0l3k8nw0f5strehu96',names = None , index_col = 0,header = 0)"
   ]
  },
  {
   "cell_type": "code",
   "execution_count": 4,
   "metadata": {},
   "outputs": [],
   "source": [
    "#df1.describe()"
   ]
  },
  {
   "cell_type": "markdown",
   "metadata": {},
   "source": [
    "### Relationship between key factors:"
   ]
  },
  {
   "cell_type": "markdown",
   "metadata": {},
   "source": [
    "#### Length of Stay: \n",
    "\n",
    "The median time for adoptions was 28 days (UK)\n",
    "\n",
    "https://www.researchgate.net/publication/244642863_Factors_affecting_time_to_adoption_of_dogs_re-homed_by_a_charity_in_the_UK\n",
    "\n",
    "https://veterinaryrecord.bmj.com/content/161/9/283.2\n",
    "\n",
    "#### Age: \n",
    "Puppies and smaller 'lapdogs' were adopted soonest, with an average stay of just 13 days.\n",
    "\n",
    "The average length of stay during this period was 35 days. Puppies were adopted fastest, with a stay of 23 days for puppies under six months and 33 days for the older puppies. Adult dogs had an average wait of 42 days before they were adopted.\n",
    "\n",
    "https://faunalytics.org/effects-of-phenotypic-characteristics-on-the-length-of-stay-of-dogs-at-two-no-kill-animal-shelters-2/\n",
    "\n",
    "https://www.companionanimalpsychology.com/2013/03/what-influences-dogs-length-of-stay-at.html\n",
    "\n",
    "The average length of stay for dogs over the age of 7 was 89 days ranging between 1 to 367 days. \n",
    "The average length of stay of the general population is 51 days.\n",
    "\n",
    "https://www.ncbi.nlm.nih.gov/pmc/articles/PMC5867524/\n",
    "\n",
    "47.7% of dogs surrendered were aged between 5 months and 3 years\n",
    "\n",
    "https://faunalytics.org/understanding-the-factors-that-lead-to-successful-dog-adoptions/\n",
    "\n",
    "Puppy (0-1 years) 26%; Adult (1-3 years) 66%; Adult (4-7 years)  Senior (7+) 9%\n",
    "\n",
    "https://data.world/rdowns26/austin-animal-shelter/workspace/file?filename=Austin_Animal_Center_Intakes.csv\n",
    "\n",
    "#### Gender: \n",
    "\n",
    "Male are adopted faster (20 days on average) than their female counterparts (22 days).\n",
    "\n",
    "https://data.world/rdowns26/austin-animal-shelter/workspace/file?filename=Project+Report.pdf\n",
    "\n",
    "The split of male to female dogs based on 36,000 dogs in the 'Austin animal shelter dataset' was 0.33 male and 0.67 female.\n",
    "\n",
    "https://data.world/rdowns26/austin-animal-shelter/workspace/file?filename=Austin_Animal_Center_Intakes.csv\n",
    "\n",
    "This result was supported by a UK study of 16,000 shelter dogs which found that females were more likely to be adopted.\n",
    "\n",
    "https://www.companionanimalpsychology.com/2015/11/large-study-finds-no-evidence-for-black.html\n",
    "\n",
    "Close to equal numbers of male and female dogs were surrendered. \n",
    "\n",
    "https://www.companionanimalpsychology.com/2013/03/what-influences-dogs-length-of-stay-at.html\n",
    "\n",
    "#### Colour: \n",
    "Coat colour made no difference to length of stay. Black dogs did not take longer to be adopted. Brindle dogs and multi-colour dogs took longer \n",
    "\n",
    "https://www.companionanimalpsychology.com/2013/03/what-influences-dogs-length-of-stay-at.html\n",
    "\n",
    "'Black dog syndrome' has been debated a great deal and remains inconclusive.\n",
    "\n",
    "#https://faunalytics.org/understanding-the-factors-that-lead-to-successful-dog-adoptions/\n",
    "\n",
    "The rehoming rate for black and non-black dogs was identical, at 88.5%.\n",
    "\n",
    "#https://faunalytics.org/understanding-the-factors-that-lead-to-successful-dog-adoptions/\n",
    "\n",
    "Black dogs did not take longer to be adopted at either of the two shelters taking part in this study. In fact, brindle dogs had a longer wait at both shelters, and multi-colour dogs also took longer at one of the shelters. Black dogs were not more likely to be euthanized. Age and breed group were more important than coat colour when it came to adoptability.\n",
    "\n",
    "#### Size:\n",
    "Length of stay increased with age and was highest for medium-sized dogs\n",
    "\n",
    "https://faunalytics.org/effects-of-phenotypic-characteristics-on-the-length-of-stay-of-dogs-at-two-no-kill-animal-shelters-2/\n",
    "\n",
    "https://www.companionanimalpsychology.com/2013/03/what-influences-dogs-length-of-stay-at.html\n",
    "\n",
    "There was an effect of size, with the XS dogs being adopted soonest, followed by the small dogs. The medium-sized dogs were the ones with the longest stay. The authors say that the XL dogs (such as St Bernards) were quite unique and likely were adopted out because of this. Some people may also have had size restrictions imposed by their landlords or condominium councils that meant they could only have a small or extra-small dog.\n",
    "\n",
    "https://www.companionanimalpsychology.com/2013/03/what-influences-dogs-length-of-stay-at.html"
   ]
  },
  {
   "cell_type": "markdown",
   "metadata": {},
   "source": [
    "### Simulating key variables:"
   ]
  },
  {
   "cell_type": "markdown",
   "metadata": {},
   "source": [
    "### Age:"
   ]
  },
  {
   "cell_type": "markdown",
   "metadata": {},
   "source": [
    "#### Assumptions - Expected Distribution:\n",
    "\n",
    "< 1 year     26%\n",
    "1 year       22%\n",
    "2 years      19%\n",
    "3 years      10%\n",
    "4 years       6%\n",
    "5 years       5%\n",
    "6 years       3%\n",
    "7-9 years +   5%\n",
    "10  years +   4%\n",
    "\n",
    "Based on Austin Dataset"
   ]
  },
  {
   "cell_type": "markdown",
   "metadata": {},
   "source": [
    "#### Simulating the 'Age' dataset:"
   ]
  },
  {
   "cell_type": "code",
   "execution_count": 50,
   "metadata": {},
   "outputs": [],
   "source": [
    "#Set seed to zero to produce a consistent result\n",
    "np.random.seed(0)\n",
    "\n",
    "#Use random.triangular() to create an array between 1 month and 156 months (13 years) skewed around 6 months\n",
    "Age = (np.random.triangular (1, 6, 156, size=200))\n",
    "Age = np.round (Age)\n",
    "\n",
    "#Populate the 'Age' column with 200 samples aged 1 month to 13 years.\n",
    "df['Age_Mths'] = Age"
   ]
  },
  {
   "cell_type": "code",
   "execution_count": 49,
   "metadata": {},
   "outputs": [],
   "source": [
    "#Option to show the dataset \n",
    "#print(df['Age_Mths'])"
   ]
  },
  {
   "cell_type": "markdown",
   "metadata": {},
   "source": [
    "#### Plot the 'Age' dataset result:"
   ]
  },
  {
   "cell_type": "code",
   "execution_count": 7,
   "metadata": {},
   "outputs": [
    {
     "data": {
      "image/png": "[encoded data removed]",
      "text/plain": [
       "<Figure size 432x288 with 1 Axes>"
      ]
     },
     "metadata": {
      "needs_background": "light"
     },
     "output_type": "display_data"
    }
   ],
   "source": [
    "plt.hist(Age)\n",
    "plt.title(\"\\nSummary of Age of Dogs in Shelters\\n\")\n",
    "plt.xlabel(\"\\nAge in Months\")\n",
    "plt.ylabel(\"\\nFrequency\\n\")\n",
    "plt.show()"
   ]
  },
  {
   "cell_type": "markdown",
   "metadata": {},
   "source": [
    "### Gender:"
   ]
  },
  {
   "cell_type": "markdown",
   "metadata": {},
   "source": [
    "#### Assumptions:\n",
    "\n",
    "Male   - 54%\n",
    "Female - 46%\n",
    "\n",
    "Based on Austin Dataset."
   ]
  },
  {
   "cell_type": "markdown",
   "metadata": {},
   "source": [
    "#### Simulating the 'Gender' Dataset"
   ]
  },
  {
   "cell_type": "code",
   "execution_count": 8,
   "metadata": {},
   "outputs": [],
   "source": [
    "#Create the Male/ Female object\n",
    "sex = ['Male','Female']\n",
    "\n",
    "#Set seed to zero to produce a consistent result\n",
    "np.random.seed(0)\n",
    "\n",
    "#Use random.choice () to create an array with a probability of 54%:46% male:female ratio & \n",
    "#populate the 'Gender' column with male & female samples\n",
    "Gender = np.random.choice(sex, size = 200, replace = True, p = [0.54,0.46])\n",
    "\n",
    "#Populate the 'Gender' column with 200 samples.\n",
    "df['   Gender  '] = Gender"
   ]
  },
  {
   "cell_type": "code",
   "execution_count": 46,
   "metadata": {},
   "outputs": [],
   "source": [
    "#Option to show the dataset \n",
    "#print(df['   Gender  '])"
   ]
  },
  {
   "cell_type": "markdown",
   "metadata": {},
   "source": [
    "#### Plot the 'Gender' dataset result:"
   ]
  },
  {
   "cell_type": "code",
   "execution_count": 10,
   "metadata": {},
   "outputs": [
    {
     "data": {
      "image/png": "[encoded data removed]",
      "text/plain": [
       "<Figure size 432x288 with 1 Axes>"
      ]
     },
     "metadata": {
      "needs_background": "light"
     },
     "output_type": "display_data"
    }
   ],
   "source": [
    "plt.hist (Gender)\n",
    "plt.title(\"\\nGender of Dogs in Shelters\\n\")\n",
    "plt.xlabel(\"\\nGender\")\n",
    "plt.ylabel(\"\\nFrequency\\n\")\n",
    "plt.show()"
   ]
  },
  {
   "cell_type": "markdown",
   "metadata": {},
   "source": [
    "### Coat Colour:"
   ]
  },
  {
   "cell_type": "markdown",
   "metadata": {},
   "source": [
    "#### Assumptions:\n",
    "\n",
    "Light (White/Grey/Gold)     - 30%\n",
    "Black                       - 30%\n",
    "Brown/Multi- Colour         - 40%"
   ]
  },
  {
   "cell_type": "markdown",
   "metadata": {},
   "source": [
    "#### Simulating the 'Coat Colour' dataset:"
   ]
  },
  {
   "cell_type": "code",
   "execution_count": 11,
   "metadata": {},
   "outputs": [],
   "source": [
    "#Create the Male/ Female object\n",
    "colour = ['Light','Brown','Black']\n",
    "\n",
    "#Set seed to zero to produce a consistent result\n",
    "np.random.seed(0)\n",
    "\n",
    "#Use random.choice () to create an array with a probability of 33%:67% male:female ratio & populate the 'Gender' column with male & female samples\n",
    "Colour = np.random.choice(colour, size = 200, replace = True, p = [0.3,0.4,.3])\n",
    "\n",
    "#Populate the 'Colour' column with 200 samples.\n",
    "df['   Colour'] = Colour"
   ]
  },
  {
   "cell_type": "code",
   "execution_count": 53,
   "metadata": {},
   "outputs": [],
   "source": [
    "#Option to show the dataset \n",
    "#print(df['   Colour'])"
   ]
  },
  {
   "cell_type": "markdown",
   "metadata": {},
   "source": [
    "#### Plot the 'Coat Colour' dataset result:"
   ]
  },
  {
   "cell_type": "code",
   "execution_count": 13,
   "metadata": {},
   "outputs": [
    {
     "data": {
      "image/png": "[encoded data removed]",
      "text/plain": [
       "<Figure size 432x288 with 1 Axes>"
      ]
     },
     "metadata": {
      "needs_background": "light"
     },
     "output_type": "display_data"
    }
   ],
   "source": [
    "plt.hist (Colour)\n",
    "plt.title(\"\\nCoat Colour of Dogs in Shelters\\n\")\n",
    "plt.xlabel(\"\\nCoat Colour\")\n",
    "plt.ylabel(\"\\nFrequency\\n\")\n",
    "plt.show()"
   ]
  },
  {
   "cell_type": "markdown",
   "metadata": {},
   "source": [
    "### Size:"
   ]
  },
  {
   "cell_type": "markdown",
   "metadata": {},
   "source": [
    "#### Assumptions:\n",
    "Small 30%; Medium 29%, Large 40%; X-Large 1%"
   ]
  },
  {
   "cell_type": "markdown",
   "metadata": {},
   "source": [
    "#### Simulating the 'Size' dataset:"
   ]
  },
  {
   "cell_type": "code",
   "execution_count": 14,
   "metadata": {},
   "outputs": [],
   "source": [
    "#Create the Size Object\n",
    "Status = ['Small','Medium','Large','X-Large']\n",
    "\n",
    "#Set seed to zero to produce a consistent result\n",
    "np.random.seed(0)\n",
    "\n",
    "#Use random.choice () to create an array with a probability of 30%:29%:40%:1% \n",
    "Size = np.random.choice(Status, size = 200, replace = True, p = [.3,.29,.4,.01])\n",
    "\n",
    "#Populate the 'Size' column with Small, Medium,Large & X-Large samples\n",
    "df['   Size'] = Size"
   ]
  },
  {
   "cell_type": "code",
   "execution_count": 15,
   "metadata": {},
   "outputs": [],
   "source": [
    "# Option to show the dataset \n",
    "#print(df['Size'])"
   ]
  },
  {
   "cell_type": "markdown",
   "metadata": {},
   "source": [
    "#### Plot the 'Size' dataset results:"
   ]
  },
  {
   "cell_type": "code",
   "execution_count": 16,
   "metadata": {},
   "outputs": [
    {
     "data": {
      "image/png": "[encoded data removed]",
      "text/plain": [
       "<Figure size 432x288 with 1 Axes>"
      ]
     },
     "metadata": {
      "needs_background": "light"
     },
     "output_type": "display_data"
    }
   ],
   "source": [
    "plt.hist (Size)\n",
    "plt.title(\"\\nSize of Dogs in Shelters\\n\")\n",
    "plt.xlabel(\"\\nSize\")\n",
    "plt.ylabel(\"\\nFrequency\\n\")\n",
    "plt.show()"
   ]
  },
  {
   "cell_type": "markdown",
   "metadata": {},
   "source": [
    "### Length of Stay:"
   ]
  },
  {
   "cell_type": "markdown",
   "metadata": {},
   "source": [
    "#### Assumptions:"
   ]
  },
  {
   "cell_type": "code",
   "execution_count": 17,
   "metadata": {},
   "outputs": [],
   "source": [
    "#### Simulating the 'Length of Stay' dataset:"
   ]
  },
  {
   "cell_type": "code",
   "execution_count": 18,
   "metadata": {},
   "outputs": [
    {
     "data": {
      "image/png": "[encoded data removed]",
      "text/plain": [
       "<Figure size 432x288 with 1 Axes>"
      ]
     },
     "metadata": {
      "needs_background": "light"
     },
     "output_type": "display_data"
    }
   ],
   "source": [
    "#Trial np.normal\n",
    "#Set seed to zero to produce a consistent result\n",
    "np.random.seed(0)\n",
    "LOS1 =  np.random.normal(loc=22, scale=8.5, size=200)\n",
    "#df['Days in Shelter1'] = LOS1\n",
    "#Option to show the dataset \n",
    "#print(df['Days in Shelter1'])\n",
    "plt.hist(LOS1)\n",
    "plt.title(\"\\nSummary of Length of Stay of Dogs in Shelters\\n\")\n",
    "plt.xlabel(\"\\nNumber of Days in Shelter\")\n",
    "plt.ylabel(\"\\nFrequency\\n\")\n",
    "plt.show()\n",
    "#I determined thatnp.random.normal did not reflect the breadth of values required so I opted for np.random.triangular()"
   ]
  },
  {
   "cell_type": "code",
   "execution_count": 44,
   "metadata": {},
   "outputs": [],
   "source": [
    "np.random.seed(0)#Set seed to zero to produce a consistent result\n",
    "#Use random.triangular() to create an array between 1 day and 365 days (1 year) skewed around 22 days\n",
    "LOS = (np.random.triangular (1, 22, 365, size=200))\n",
    "#LOS = np.round(LOS)\n",
    "#Populate the 'Days in Shelter' column with 200 samples aged 1 month to 13 years.\n",
    "df['Duration (Days)'] = LOS\n",
    "pd.set_option(\"display.precision\", 0)# Use 0 decimal places in output display"
   ]
  },
  {
   "cell_type": "code",
   "execution_count": 20,
   "metadata": {},
   "outputs": [],
   "source": [
    "#Option to show the dataset \n",
    "#print(df['Duration (Days)'])"
   ]
  },
  {
   "cell_type": "markdown",
   "metadata": {},
   "source": [
    "#### Plot the 'Length of Stay' dataset result:"
   ]
  },
  {
   "cell_type": "code",
   "execution_count": 21,
   "metadata": {},
   "outputs": [
    {
     "data": {
      "image/png": "[encoded data removed]",
      "text/plain": [
       "<Figure size 432x288 with 1 Axes>"
      ]
     },
     "metadata": {
      "needs_background": "light"
     },
     "output_type": "display_data"
    }
   ],
   "source": [
    "plt.hist(LOS)\n",
    "plt.title(\"\\nSummary of Length of Stay of Dogs in Shelters\\n\")\n",
    "plt.xlabel(\"\\nNumber of Days in Shelter\")\n",
    "plt.ylabel(\"\\nFrequency\\n\")\n",
    "plt.show()"
   ]
  },
  {
   "cell_type": "markdown",
   "metadata": {},
   "source": [
    "<BR>"
   ]
  },
  {
   "cell_type": "markdown",
   "metadata": {},
   "source": [
    "### Create a summary dataset:\n",
    "***"
   ]
  },
  {
   "cell_type": "code",
   "execution_count": 22,
   "metadata": {},
   "outputs": [],
   "source": [
    "#To delete unnecessary dataframes\n",
    "#df = df.drop('Age(Yrs)', axis=1)"
   ]
  },
  {
   "cell_type": "code",
   "execution_count": 35,
   "metadata": {},
   "outputs": [],
   "source": [
    "#To check for missing values\n",
    "pd.set_option(\"display.max_rows\", 200)#Display all entries\n",
    "df.isnull();\n",
    "# Option to print null value check\n",
    "#print(df.isnull()) "
   ]
  },
  {
   "cell_type": "code",
   "execution_count": 24,
   "metadata": {},
   "outputs": [],
   "source": [
    "#To reset the index to start at 1 instead of zero\n",
    "#https://stackoverflow.com/questions/32249960/in-python-pandas-start-row-index-from-1-instead-of-zero-without-creating-additi\n",
    "df.index = np.arange(1, len(df) + 1)"
   ]
  },
  {
   "cell_type": "code",
   "execution_count": 41,
   "metadata": {},
   "outputs": [],
   "source": [
    "#To create a new column calculating age in years based on 'Age_Mths/12'\n",
    "#df.insert(2, 'Age_Yrs', np.nan) #Insert new column called 'Age_Yrs'\n",
    "df['Age_Yrs'] = round(df.Age_Mths/ 12)"
   ]
  },
  {
   "cell_type": "code",
   "execution_count": 26,
   "metadata": {},
   "outputs": [],
   "source": [
    "#Re-order the columns\n",
    "df = df[['Duration (Days)', 'Age_Mths', 'Age_Yrs', '   Gender  ', '   Colour','   Size']]"
   ]
  },
  {
   "cell_type": "code",
   "execution_count": 43,
   "metadata": {},
   "outputs": [
    {
     "name": "stdout",
     "output_type": "stream",
     "text": [
      "     Duration (Days)  Age_Mths  Age_Yrs    Gender      Colour     Size\n",
      "1                128        54        4      Female     Brown   Medium\n",
      "2                176        75        6      Female     Black    Large\n",
      "3                142        60        5      Female     Brown    Large\n",
      "4                127        53        4      Female     Brown   Medium\n",
      "5                 97        40        3        Male     Brown   Medium\n",
      "6                155        65        5      Female     Brown    Large\n",
      "7                100        42        4        Male     Brown   Medium\n",
      "8                249       106        9      Female     Black    Large\n",
      "9                298       127       11      Female     Black    Large\n",
      "10                88        36        3        Male     Brown   Medium\n",
      "11               204        86        7      Female     Black    Large\n",
      "12               122        51        4        Male     Brown   Medium\n",
      "13               133        56        5      Female     Brown   Medium\n",
      "14               269       114       10      Female     Black    Large\n",
      "15                24         9        1        Male     Light    Small\n",
      "16                27        10        1        Male     Light    Small\n",
      "17                13         5        0        Male     Light    Small\n",
      "18               220        94        8      Female     Black    Large\n",
      "19               199        84        7      Female     Black    Large\n",
      "20               238       101        8      Female     Black    Large\n",
      "21               313       134       11      Female     Black    Large\n",
      "22               207        88        7      Female     Black    Large\n",
      "23               106        44        4        Male     Brown   Medium\n",
      "24               199        85        7      Female     Black    Large\n",
      "25                33        13        1        Male     Light    Small\n",
      "26               153        65        5      Female     Brown    Large\n",
      "27                38        15        1        Male     Light    Small\n",
      "28               282       120       10      Female     Black    Large\n",
      "29               121        51        4        Male     Brown   Medium\n",
      "30                95        39        3        Male     Brown   Medium\n",
      "31                62        25        2        Male     Light    Small\n",
      "32               197        84        7      Female     Black    Large\n",
      "33               104        44        4        Male     Brown   Medium\n",
      "34               133        56        5      Female     Brown   Medium\n",
      "35                13         5        0        Male     Light    Small\n",
      "36               147        62        5      Female     Brown    Large\n",
      "37               145        61        5      Female     Brown    Large\n",
      "38               146        62        5      Female     Brown    Large\n",
      "39               281       120       10      Female     Black    Large\n",
      "40               166        70        6      Female     Brown    Large\n",
      "41                82        34        3        Male     Brown   Medium\n",
      "42               100        42        4        Male     Brown   Medium\n",
      "43               171        72        6      Female     Brown    Large\n",
      "44                22         8        1        Male     Light    Small\n",
      "45               161        68        6      Female     Brown    Large\n",
      "46               162        68        6      Female     Brown    Large\n",
      "47                51        21        2        Male     Light    Small\n",
      "48                35        14        1        Male     Light    Small\n",
      "49                73        30        2        Male     Brown   Medium\n",
      "50                83        34        3        Male     Brown   Medium\n",
      "51               133        56        5      Female     Brown   Medium\n",
      "52               100        42        4        Male     Brown   Medium\n",
      "53               327       140       12      Female     Black    Large\n",
      "54                30        12        1        Male     Light    Small\n",
      "55                51        20        2        Male     Light    Small\n",
      "56                41        16        1        Male     Light    Small\n",
      "57               157        66        6      Female     Brown    Large\n",
      "58                60        24        2        Male     Light    Small\n",
      "59               107        45        4        Male     Brown   Medium\n",
      "60                58        23        2        Male     Light    Small\n",
      "61                41        16        1        Male     Light    Small\n",
      "62                32        12        1        Male     Light    Small\n",
      "63               158        67        6      Female     Brown    Large\n",
      "64                37        14        1        Male     Light    Small\n",
      "65                48        19        2        Male     Light    Small\n",
      "66                84        35        3        Male     Brown   Medium\n",
      "67               216        91        8      Female     Black    Large\n",
      "68                29        11        1        Male     Light    Small\n",
      "69               223        95        8      Female     Black    Large\n",
      "70                29        11        1        Male     Light    Small\n",
      "71               311       133       11      Female     Black    Large\n",
      "72               107        45        4        Male     Brown   Medium\n",
      "73               311       133       11      Female     Black    Large\n",
      "74               143        60        5      Female     Brown    Large\n",
      "75               185        78        6      Female     Black    Large\n",
      "76                18         7        1        Male     Light    Small\n",
      "77                66        27        2        Male     Light    Small\n",
      "78                34        13        1        Male     Light    Small\n",
      "79                69        28        2        Male     Light    Small\n",
      "80                33        13        1        Male     Light    Small\n",
      "81                73        30        2        Male     Brown   Medium\n",
      "82                95        39        3        Male     Brown   Medium\n",
      "83                23         8        1        Male     Light    Small\n",
      "84               169        71        6      Female     Brown    Large\n",
      "85               132        56        5      Female     Brown   Medium\n",
      "86                62        25        2        Male     Light    Small\n",
      "87               121        51        4        Male     Brown   Medium\n",
      "88                29        11        1        Male     Light    Small\n",
      "89               135        57        5      Female     Brown   Medium\n",
      "90               271       115       10      Female     Black    Large\n",
      "91                73        30        2        Male     Brown   Medium\n",
      "92               161        68        6      Female     Brown    Large\n",
      "93                36        14        1        Male     Light    Small\n",
      "94               177        75        6      Female     Black    Large\n",
      "95                67        27        2        Male     Light    Small\n",
      "96                46        18        2        Male     Light    Small\n",
      "97               138        58        5      Female     Brown   Medium\n",
      "98                13         5        0        Male     Light    Small\n",
      "99               219        93        8      Female     Black    Large\n",
      "100                7         3        0        Male     Light    Small\n",
      "101              164        69        6      Female     Brown    Large\n",
      "102               63        26        2        Male     Light    Small\n",
      "103              183        78        6      Female     Black    Large\n",
      "104              296       126       10      Female     Black    Large\n",
      "105               59        24        2        Male     Light    Small\n",
      "106              135        57        5      Female     Brown   Medium\n",
      "107              139        59        5      Female     Brown    Large\n",
      "108              134        56        5      Female     Brown   Medium\n",
      "109               54        22        2        Male     Light    Small\n",
      "110              288       123       10      Female     Black    Large\n",
      "111              102        43        4        Male     Brown   Medium\n",
      "112              227        96        8      Female     Black    Large\n",
      "113              171        72        6      Female     Brown    Large\n",
      "114               69        28        2        Male     Light    Small\n",
      "115              213        90        8      Female     Black    Large\n",
      "116               91        38        3        Male     Brown   Medium\n",
      "117              243       103        9      Female     Black    Large\n",
      "118              136        57        5      Female     Brown   Medium\n",
      "119              243       104        9      Female     Black    Large\n",
      "120              169        71        6      Female     Brown    Large\n",
      "121              180        76        6      Female     Black    Large\n",
      "122              115        48        4        Male     Brown   Medium\n",
      "123              291       124       10      Female     Black    Large\n",
      "124              154        65        5      Female     Brown    Large\n",
      "125               97        40        3        Male     Brown   Medium\n",
      "126              143        60        5      Female     Brown    Large\n",
      "127               13         5        0        Male     Light    Small\n",
      "128               70        29        2        Male     Brown   Medium\n",
      "129              159        67        6      Female     Brown    Large\n",
      "130               67        28        2        Male     Light    Small\n",
      "131              147        62        5      Female     Brown    Large\n",
      "132               98        41        3        Male     Brown   Medium\n",
      "133               36        14        1        Male     Light    Small\n",
      "134               69        28        2        Male     Light    Small\n",
      "135              133        56        5      Female     Brown   Medium\n",
      "136              139        58        5      Female     Brown    Large\n",
      "137              134        57        5      Female     Brown   Medium\n",
      "138              157        66        6      Female     Brown    Large\n",
      "139              157        66        6      Female     Brown    Large\n",
      "140               99        41        3        Male     Brown   Medium\n",
      "141              251       107        9      Female     Black    Large\n",
      "142               84        35        3        Male     Brown   Medium\n",
      "143              100        41        3        Male     Brown   Medium\n",
      "144              249       106        9      Female     Black    Large\n",
      "145              209        89        7      Female     Black    Large\n",
      "146              173        73        6      Female     Black    Large\n",
      "147               30        11        1        Male     Light    Small\n",
      "148              265       113        9      Female     Black    Large\n",
      "149              176        74        6      Female     Black    Large\n",
      "150              353       151       13      Female     Black  X-Large\n",
      "151               39        15        1        Male     Light    Small\n",
      "152              237       101        8      Female     Black    Large\n",
      "153               42        16        1        Male     Light    Small\n",
      "154              146        61        5      Female     Brown    Large\n",
      "155               34        13        1        Male     Light    Small\n",
      "156              227        97        8      Female     Black    Large\n",
      "157              210        89        7      Female     Black    Large\n",
      "158              133        56        5      Female     Brown   Medium\n",
      "159               93        39        3        Male     Brown   Medium\n",
      "160               24         9        1        Male     Light    Small\n",
      "161              171        72        6      Female     Brown    Large\n",
      "162              104        43        4        Male     Brown   Medium\n",
      "163              179        76        6      Female     Black    Large\n",
      "164              236       100        8      Female     Black    Large\n",
      "165              310       132       11      Female     Black    Large\n",
      "166              231        98        8      Female     Black    Large\n",
      "167               10         4        0        Male     Light    Small\n",
      "168               82        34        3        Male     Brown   Medium\n",
      "169              181        77        6      Female     Black    Large\n",
      "170               43        17        1        Male     Light    Small\n",
      "171              120        50        4        Male     Brown   Medium\n",
      "172               21         8        1        Male     Light    Small\n",
      "173               49        20        2        Male     Light    Small\n",
      "174               13         5        0        Male     Light    Small\n",
      "175              205        87        7      Female     Black    Large\n",
      "176               54        22        2        Male     Light    Small\n",
      "177               79        33        3        Male     Brown   Medium\n",
      "178              270       115       10      Female     Black    Large\n",
      "179              173        73        6      Female     Black    Large\n",
      "180               17         6        0        Male     Light    Small\n",
      "181               42        17        1        Male     Light    Small\n",
      "182              148        62        5      Female     Brown    Large\n",
      "183              135        57        5      Female     Brown   Medium\n",
      "184               57        23        2        Male     Light    Small\n",
      "185              274       117       10      Female     Black    Large\n",
      "186              145        61        5      Female     Brown    Large\n",
      "187              124        52        4        Male     Brown   Medium\n",
      "188              139        58        5      Female     Brown   Medium\n",
      "189              181        77        6      Female     Black    Large\n",
      "190               72        30        2        Male     Brown   Medium\n",
      "191               91        38        3        Male     Brown   Medium\n",
      "192               51        20        2        Male     Light    Small\n",
      "193               46        18        2        Male     Light    Small\n",
      "194              282       120       10      Female     Black    Large\n",
      "195              185        78        6      Female     Black    Large\n",
      "196              113        47        4        Male     Brown   Medium\n",
      "197               54        22        2        Male     Light    Small\n",
      "198               60        24        2        Male     Light    Small\n",
      "199               22         8        1        Male     Light    Small\n",
      "200               99        41        3        Male     Brown   Medium\n"
     ]
    }
   ],
   "source": [
    "#Format the Dataframe\n",
    "pd.set_option(\"display.precision\", 0)# Use 0 decimal places in output display\n",
    "pd.set_option('expand_frame_repr', False) #print dataframe on a single line\n",
    "#https://stackoverflow.com/questions/39482722/how-to-print-dataframe-on-single-line\n",
    "pd.set_option(\"display.max_rows\", 200)#Display all entries\n",
    "pd.options.display.max_columns = 7 #Print 7 Columns\n",
    "print(df)"
   ]
  },
  {
   "cell_type": "code",
   "execution_count": null,
   "metadata": {},
   "outputs": [],
   "source": []
  },
  {
   "cell_type": "code",
   "execution_count": 28,
   "metadata": {},
   "outputs": [],
   "source": [
    "#sns.relplot(x=\"Days in Shelter\", y=\"Age\", hue=\"Gender\", size=\"weight\",sizes=(40, 400), alpha=.5, palette=\"muted\",height=6, data=mpg)"
   ]
  },
  {
   "cell_type": "code",
   "execution_count": 29,
   "metadata": {},
   "outputs": [
    {
     "ename": "ValueError",
     "evalue": "Could not interpret input 'Age'",
     "output_type": "error",
     "traceback": [
      "\u001b[1;31m----------------------------------------------------------------------\u001b[0m",
      "\u001b[1;31mValueError\u001b[0m                           Traceback (most recent call last)",
      "\u001b[1;32m<ipython-input-29-9adfde30775d>\u001b[0m in \u001b[0;36m<module>\u001b[1;34m\u001b[0m\n\u001b[1;32m----> 1\u001b[1;33m \u001b[0msns\u001b[0m\u001b[1;33m.\u001b[0m\u001b[0mrelplot\u001b[0m\u001b[1;33m(\u001b[0m\u001b[0mx\u001b[0m\u001b[1;33m=\u001b[0m\u001b[1;34m\"Age\"\u001b[0m\u001b[1;33m,\u001b[0m \u001b[0my\u001b[0m\u001b[1;33m=\u001b[0m\u001b[1;34m\"Gender\"\u001b[0m\u001b[1;33m,\u001b[0m \u001b[0mdata\u001b[0m\u001b[1;33m=\u001b[0m\u001b[0mdf\u001b[0m\u001b[1;33m)\u001b[0m\u001b[1;33m\u001b[0m\u001b[1;33m\u001b[0m\u001b[0m\n\u001b[0m\u001b[0;32m      2\u001b[0m \u001b[0mplt\u001b[0m\u001b[1;33m.\u001b[0m\u001b[0mshow\u001b[0m\u001b[1;33m(\u001b[0m\u001b[1;33m)\u001b[0m\u001b[1;33m\u001b[0m\u001b[1;33m\u001b[0m\u001b[0m\n",
      "\u001b[1;32m~\\anaconda3\\lib\\site-packages\\seaborn\\relational.py\u001b[0m in \u001b[0;36mrelplot\u001b[1;34m(x, y, hue, size, style, data, row, col, col_wrap, row_order, col_order, palette, hue_order, hue_norm, sizes, size_order, size_norm, markers, dashes, style_order, legend, kind, height, aspect, facet_kws, **kwargs)\u001b[0m\n\u001b[0;32m   1653\u001b[0m \u001b[1;33m\u001b[0m\u001b[0m\n\u001b[0;32m   1654\u001b[0m     \u001b[1;31m# Use the full dataset to establish how to draw the semantics\u001b[0m\u001b[1;33m\u001b[0m\u001b[1;33m\u001b[0m\u001b[1;33m\u001b[0m\u001b[0m\n\u001b[1;32m-> 1655\u001b[1;33m     p = plotter(\n\u001b[0m\u001b[0;32m   1656\u001b[0m         \u001b[0mx\u001b[0m\u001b[1;33m=\u001b[0m\u001b[0mx\u001b[0m\u001b[1;33m,\u001b[0m \u001b[0my\u001b[0m\u001b[1;33m=\u001b[0m\u001b[0my\u001b[0m\u001b[1;33m,\u001b[0m \u001b[0mhue\u001b[0m\u001b[1;33m=\u001b[0m\u001b[0mhue\u001b[0m\u001b[1;33m,\u001b[0m \u001b[0msize\u001b[0m\u001b[1;33m=\u001b[0m\u001b[0msize\u001b[0m\u001b[1;33m,\u001b[0m \u001b[0mstyle\u001b[0m\u001b[1;33m=\u001b[0m\u001b[0mstyle\u001b[0m\u001b[1;33m,\u001b[0m \u001b[0mdata\u001b[0m\u001b[1;33m=\u001b[0m\u001b[0mdata\u001b[0m\u001b[1;33m,\u001b[0m\u001b[1;33m\u001b[0m\u001b[1;33m\u001b[0m\u001b[0m\n\u001b[0;32m   1657\u001b[0m         \u001b[0mpalette\u001b[0m\u001b[1;33m=\u001b[0m\u001b[0mpalette\u001b[0m\u001b[1;33m,\u001b[0m \u001b[0mhue_order\u001b[0m\u001b[1;33m=\u001b[0m\u001b[0mhue_order\u001b[0m\u001b[1;33m,\u001b[0m \u001b[0mhue_norm\u001b[0m\u001b[1;33m=\u001b[0m\u001b[0mhue_norm\u001b[0m\u001b[1;33m,\u001b[0m\u001b[1;33m\u001b[0m\u001b[1;33m\u001b[0m\u001b[0m\n",
      "\u001b[1;32m~\\anaconda3\\lib\\site-packages\\seaborn\\relational.py\u001b[0m in \u001b[0;36m__init__\u001b[1;34m(self, x, y, hue, size, style, data, palette, hue_order, hue_norm, sizes, size_order, size_norm, dashes, markers, style_order, x_bins, y_bins, units, estimator, ci, n_boot, alpha, x_jitter, y_jitter, legend)\u001b[0m\n\u001b[0;32m    883\u001b[0m                  legend=None):\n\u001b[0;32m    884\u001b[0m \u001b[1;33m\u001b[0m\u001b[0m\n\u001b[1;32m--> 885\u001b[1;33m         plot_data = self.establish_variables(\n\u001b[0m\u001b[0;32m    886\u001b[0m             \u001b[0mx\u001b[0m\u001b[1;33m,\u001b[0m \u001b[0my\u001b[0m\u001b[1;33m,\u001b[0m \u001b[0mhue\u001b[0m\u001b[1;33m,\u001b[0m \u001b[0msize\u001b[0m\u001b[1;33m,\u001b[0m \u001b[0mstyle\u001b[0m\u001b[1;33m,\u001b[0m \u001b[0munits\u001b[0m\u001b[1;33m,\u001b[0m \u001b[0mdata\u001b[0m\u001b[1;33m\u001b[0m\u001b[1;33m\u001b[0m\u001b[0m\n\u001b[0;32m    887\u001b[0m         )\n",
      "\u001b[1;32m~\\anaconda3\\lib\\site-packages\\seaborn\\relational.py\u001b[0m in \u001b[0;36mestablish_variables\u001b[1;34m(self, x, y, hue, size, style, units, data)\u001b[0m\n\u001b[0;32m    135\u001b[0m                 \u001b[1;32mif\u001b[0m \u001b[0misinstance\u001b[0m\u001b[1;33m(\u001b[0m\u001b[0mvar\u001b[0m\u001b[1;33m,\u001b[0m \u001b[0mstr\u001b[0m\u001b[1;33m)\u001b[0m\u001b[1;33m:\u001b[0m\u001b[1;33m\u001b[0m\u001b[1;33m\u001b[0m\u001b[0m\n\u001b[0;32m    136\u001b[0m                     \u001b[0merr\u001b[0m \u001b[1;33m=\u001b[0m \u001b[1;34m\"Could not interpret input '{}'\"\u001b[0m\u001b[1;33m.\u001b[0m\u001b[0mformat\u001b[0m\u001b[1;33m(\u001b[0m\u001b[0mvar\u001b[0m\u001b[1;33m)\u001b[0m\u001b[1;33m\u001b[0m\u001b[1;33m\u001b[0m\u001b[0m\n\u001b[1;32m--> 137\u001b[1;33m                     \u001b[1;32mraise\u001b[0m \u001b[0mValueError\u001b[0m\u001b[1;33m(\u001b[0m\u001b[0merr\u001b[0m\u001b[1;33m)\u001b[0m\u001b[1;33m\u001b[0m\u001b[1;33m\u001b[0m\u001b[0m\n\u001b[0m\u001b[0;32m    138\u001b[0m \u001b[1;33m\u001b[0m\u001b[0m\n\u001b[0;32m    139\u001b[0m             \u001b[1;31m# Extract variable names\u001b[0m\u001b[1;33m\u001b[0m\u001b[1;33m\u001b[0m\u001b[1;33m\u001b[0m\u001b[0m\n",
      "\u001b[1;31mValueError\u001b[0m: Could not interpret input 'Age'"
     ]
    }
   ],
   "source": [
    "sns.relplot(x=\"Age\", y=\"Gender\", data=df)\n",
    "plt.show()"
   ]
  },
  {
   "cell_type": "code",
   "execution_count": null,
   "metadata": {},
   "outputs": [],
   "source": []
  },
  {
   "cell_type": "code",
   "execution_count": null,
   "metadata": {},
   "outputs": [],
   "source": []
  },
  {
   "cell_type": "code",
   "execution_count": null,
   "metadata": {},
   "outputs": [],
   "source": []
  },
  {
   "cell_type": "markdown",
   "metadata": {},
   "source": [
    "### References:\n",
    "https://www.aspca.org/animal-homelessness/shelter-intake-and-surrender/pet-statistics\n",
    "\n",
    "https://www.petfinder.com/pet-adoption/dog-adoption/pets-relinquished-shelters/\n",
    "\n",
    "https://pubmed.ncbi.nlm.nih.gov/32575574/#&gid=article-figures&pid=figure-2-uid-1\n",
    "\n",
    "https://www.thejournal.ie/dogs-abandoned-5194543-Sep2020/\n",
    "\n",
    "https://news.orvis.com/dogs/when-is-it-time-to-surrender-your-dog\n",
    "\n",
    "https://faunalytics.org/understanding-the-factors-that-lead-to-successful-dog-adoptions/\n",
    "\n",
    "https://veterinaryrecord.bmj.com/content/161/9/283.2\n",
    "\n",
    "https://pubmed.ncbi.nlm.nih.gov/29557174/\n",
    "\n",
    "https://s3.amazonaws.com/cdn-origin-etr.akc.org/wp-content/uploads/2020/07/21083509/MACH-EndYear2019.pdf\n",
    "\n",
    "https://apnews.com/article/218042cf3f684525874f48ae990ed49b\n",
    "\n",
    "https://www.hillspet.com/dog-care/new-pet-parent/common-reasons-adopted-dogs-are-returned-to-shelters\n",
    "\n",
    "https://data.bloomington.in.gov/dataset/animal-care-and-control/resource/7a847ec2-31c6-48e3-b0bc-02af2fa94587\n",
    "\n",
    "https://www.companionanimalpsychology.com/2013/03/what-influences-dogs-length-of-stay-at.html\n",
    "\n",
    "Re-homing stats:\n",
    "https://data.world/rdowns26/austin-animal-shelter/workspace/file?filename=Project+Report.pdf\n",
    "\n",
    "Older dog study:\n",
    "https://www.ncbi.nlm.nih.gov/pmc/articles/PMC5867524/"
   ]
  },
  {
   "cell_type": "code",
   "execution_count": null,
   "metadata": {},
   "outputs": [],
   "source": []
  }
 ],
 "metadata": {
  "kernelspec": {
   "display_name": "Python 3",
   "language": "python",
   "name": "python3"
  },
  "language_info": {
   "codemirror_mode": {
    "name": "ipython",
    "version": 3
   },
   "file_extension": ".py",
   "mimetype": "text/x-python",
   "name": "python",
   "nbconvert_exporter": "python",
   "pygments_lexer": "ipython3",
   "version": "3.8.3"
  }
 },
 "nbformat": 4,
 "nbformat_minor": 4
}
