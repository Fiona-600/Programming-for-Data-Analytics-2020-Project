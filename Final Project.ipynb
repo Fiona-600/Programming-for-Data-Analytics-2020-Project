{
 "cells": [
  {
   "cell_type": "markdown",
   "metadata": {},
   "source": [
    "### Programming for Data Analysis 2020 Submission\n",
    "\n",
    "#### GMIT Higher Diploma in Data Analytics\n",
    "\n",
    "#### Submitted by Fiona Lee - 3 December 2021\n"
   ]
  },
  {
   "cell_type": "markdown",
   "metadata": {},
   "source": [
    "This project creates and models a simulated data set related to a chosen real-world phenomenon using the numpy.random package in Python.  This approach is taken rather than collecting the data.\n",
    "\n",
    "The elements explored will be:\n",
    "\n",
    "(i)   Choose a real-world phenomenon that can be measured and for which you could collect at least one-hundred data points across at least four different variables.\n",
    "\n",
    "(ii)  Investigate  the  types  of  variables  involved,  their  likely  distributions,  and  their relationships with each other.\n",
    "\n",
    "(iii) Synthesise/simulate a data set as closely matching their properties as possible.\n",
    "\n",
    "(iv)  Detail your research and implement the simulation in a Jupyter notebook – the data set itself can simply be     displayed in an output cell within the notebook."
   ]
  },
  {
   "cell_type": "code",
   "execution_count": null,
   "metadata": {},
   "outputs": [],
   "source": []
  },
  {
   "cell_type": "markdown",
   "metadata": {},
   "source": [
    "### Project Outline:\n",
    "\n",
    "#### Factors affecting length of stay of dogs in animal shelters \n",
    "\n",
    "For this project I generated simulated data on the factors that contribute to the duration of a dog's length of stay in an animal shelter from entry to adoption/foster/euthenasia.\n",
    "\n",
    "I concluded the main measurable factors that influence the duration of a dog's stay are:\n",
    "    \n",
    "1. Age\n",
    "2. Gender\n",
    "3. Pedigree  \n",
    "4. Size\n",
    "\n",
    "I will explore each of these factors in the following sections and how they combined to affect a dog's likelyhood of achieving a speedy adoption or otherwise."
   ]
  },
  {
   "cell_type": "markdown",
   "metadata": {},
   "source": [
    "### Import Modules:"
   ]
  },
  {
   "cell_type": "code",
   "execution_count": 1,
   "metadata": {},
   "outputs": [],
   "source": [
    "import pandas as pd \n",
    "import numpy as np \n",
    "import matplotlib.pyplot as plt\n",
    "import seaborn as sns"
   ]
  },
  {
   "cell_type": "markdown",
   "metadata": {},
   "source": [
    "### Research:"
   ]
  },
  {
   "cell_type": "markdown",
   "metadata": {},
   "source": [
    "My initial research found plentiful statistics in relation to US animal shelters (see below) which I initially thought could be applied to extrapoloate the data for Irish shelters. On further investigation however I found that there are fundamental differences between the US and Ireland due to lower euthenasia rates and longer average shelter stays in Ireland.  For this reason, my approach has been to use UK studies where available and to use the US statistics as a guide to estimate the metrics for Ireland.\n",
    "\n",
    "The 'Dogs Trust' dataset provides high level summary information based on 2,806 dogs in the UK shelter.  This information in this dataset was supplemented by the findings of the 'Austin' dataset which provides more detailed information from the US."
   ]
  },
  {
   "cell_type": "code",
   "execution_count": 31,
   "metadata": {},
   "outputs": [
    {
     "data": {
      "text/html": [
       "<div>\n",
       "<style scoped>\n",
       "    .dataframe tbody tr th:only-of-type {\n",
       "        vertical-align: middle;\n",
       "    }\n",
       "\n",
       "    .dataframe tbody tr th {\n",
       "        vertical-align: top;\n",
       "    }\n",
       "\n",
       "    .dataframe thead th {\n",
       "        text-align: right;\n",
       "    }\n",
       "</style>\n",
       "<table border=\"1\" class=\"dataframe\">\n",
       "  <thead>\n",
       "    <tr style=\"text-align: right;\">\n",
       "      <th></th>\n",
       "      <th>Category</th>\n",
       "      <th>Variable</th>\n",
       "      <th>Number of Dogs</th>\n",
       "      <th>%  of Total</th>\n",
       "    </tr>\n",
       "  </thead>\n",
       "  <tbody>\n",
       "    <tr>\n",
       "      <th>1</th>\n",
       "      <td>TOTAL</td>\n",
       "      <td>TOTAL</td>\n",
       "      <td>2806</td>\n",
       "      <td>100.0</td>\n",
       "    </tr>\n",
       "    <tr>\n",
       "      <th>2</th>\n",
       "      <td>Gender</td>\n",
       "      <td>Male</td>\n",
       "      <td>1595</td>\n",
       "      <td>56.8</td>\n",
       "    </tr>\n",
       "    <tr>\n",
       "      <th>3</th>\n",
       "      <td>Gender</td>\n",
       "      <td>Female</td>\n",
       "      <td>1211</td>\n",
       "      <td>43.2</td>\n",
       "    </tr>\n",
       "    <tr>\n",
       "      <th>4</th>\n",
       "      <td>Pedigree</td>\n",
       "      <td>Crossbred</td>\n",
       "      <td>2220</td>\n",
       "      <td>79.1</td>\n",
       "    </tr>\n",
       "    <tr>\n",
       "      <th>5</th>\n",
       "      <td>Pedigree</td>\n",
       "      <td>Purebred</td>\n",
       "      <td>586</td>\n",
       "      <td>20.9</td>\n",
       "    </tr>\n",
       "    <tr>\n",
       "      <th>6</th>\n",
       "      <td>Size</td>\n",
       "      <td>Small (&lt;10 kg)</td>\n",
       "      <td>629</td>\n",
       "      <td>22.4</td>\n",
       "    </tr>\n",
       "    <tr>\n",
       "      <th>7</th>\n",
       "      <td>Size</td>\n",
       "      <td>Medium (10-30 kg)</td>\n",
       "      <td>1681</td>\n",
       "      <td>59.9</td>\n",
       "    </tr>\n",
       "    <tr>\n",
       "      <th>8</th>\n",
       "      <td>Size</td>\n",
       "      <td>Large (&gt;30 kg)</td>\n",
       "      <td>495</td>\n",
       "      <td>17.6</td>\n",
       "    </tr>\n",
       "    <tr>\n",
       "      <th>9</th>\n",
       "      <td>Size</td>\n",
       "      <td>Unknown</td>\n",
       "      <td>1</td>\n",
       "      <td>0.1</td>\n",
       "    </tr>\n",
       "    <tr>\n",
       "      <th>10</th>\n",
       "      <td>Age</td>\n",
       "      <td>&lt; 6 months</td>\n",
       "      <td>398</td>\n",
       "      <td>14.2</td>\n",
       "    </tr>\n",
       "    <tr>\n",
       "      <th>11</th>\n",
       "      <td>Age</td>\n",
       "      <td>&lt; 1 year</td>\n",
       "      <td>616</td>\n",
       "      <td>21.9</td>\n",
       "    </tr>\n",
       "    <tr>\n",
       "      <th>12</th>\n",
       "      <td>Age</td>\n",
       "      <td>&lt;3 years</td>\n",
       "      <td>812</td>\n",
       "      <td>28.9</td>\n",
       "    </tr>\n",
       "    <tr>\n",
       "      <th>13</th>\n",
       "      <td>Age</td>\n",
       "      <td>&lt;6 years</td>\n",
       "      <td>530</td>\n",
       "      <td>18.9</td>\n",
       "    </tr>\n",
       "    <tr>\n",
       "      <th>14</th>\n",
       "      <td>Age</td>\n",
       "      <td>&lt;10</td>\n",
       "      <td>358</td>\n",
       "      <td>12.8</td>\n",
       "    </tr>\n",
       "    <tr>\n",
       "      <th>15</th>\n",
       "      <td>Age</td>\n",
       "      <td>&gt;10</td>\n",
       "      <td>91</td>\n",
       "      <td>3.2</td>\n",
       "    </tr>\n",
       "    <tr>\n",
       "      <th>16</th>\n",
       "      <td>Age</td>\n",
       "      <td>Unknown</td>\n",
       "      <td>1</td>\n",
       "      <td>0.1</td>\n",
       "    </tr>\n",
       "  </tbody>\n",
       "</table>\n",
       "</div>"
      ],
      "text/plain": [
       "    Category           Variable  Number of Dogs   %  of Total\n",
       "1      TOTAL              TOTAL             2806        100.0\n",
       "2     Gender               Male             1595         56.8\n",
       "3     Gender             Female             1211         43.2\n",
       "4   Pedigree          Crossbred             2220         79.1\n",
       "5   Pedigree           Purebred              586         20.9\n",
       "6       Size     Small (<10 kg)              629         22.4\n",
       "7       Size  Medium (10-30 kg)             1681         59.9\n",
       "8       Size     Large (>30 kg)              495         17.6\n",
       "9       Size            Unknown                1          0.1\n",
       "10       Age         < 6 months              398         14.2\n",
       "11       Age           < 1 year              616         21.9\n",
       "12       Age           <3 years              812         28.9\n",
       "13       Age           <6 years              530         18.9\n",
       "14       Age                <10              358         12.8\n",
       "15       Age                >10               91          3.2\n",
       "16       Age            Unknown                1          0.1"
      ]
     },
     "execution_count": 31,
     "metadata": {},
     "output_type": "execute_result"
    }
   ],
   "source": [
    "#Import 'Dogs Trust' dataset:\n",
    "\n",
    "df1 = pd.read_excel('Dogs-Trust.xlsx',usecols = [0,1,8,9],skiprows=[i for i in range(17,24)])\n",
    "#https://thispointer.com/pandas-skip-rows-while-reading-csv-file-to-a-dataframe-using-read_csv-in-python/\n",
    "#https://www.tandfonline.com/doi/abs/10.1080/10888700903369255?journalCode=haaw20\n",
    "df1.index = np.arange(1, len(df1) + 1) #To reset the index to start at 1 instead of zero\n",
    "#https://stackoverflow.com/questions/32249960/in-python-pandas-start-row-index-from-1-instead-of-zero-without-creating-additi\n",
    "pd.set_option(\"display.precision\", 2)# Use 0 decimal places in output display\n",
    "df1"
   ]
  },
  {
   "cell_type": "code",
   "execution_count": 92,
   "metadata": {},
   "outputs": [
    {
     "data": {
      "text/html": [
       "<div>\n",
       "<style scoped>\n",
       "    .dataframe tbody tr th:only-of-type {\n",
       "        vertical-align: middle;\n",
       "    }\n",
       "\n",
       "    .dataframe tbody tr th {\n",
       "        vertical-align: top;\n",
       "    }\n",
       "\n",
       "    .dataframe thead th {\n",
       "        text-align: right;\n",
       "    }\n",
       "</style>\n",
       "<table border=\"1\" class=\"dataframe\">\n",
       "  <thead>\n",
       "    <tr style=\"text-align: right;\">\n",
       "      <th></th>\n",
       "      <th>ID</th>\n",
       "      <th>Age Years</th>\n",
       "      <th>Gender</th>\n",
       "    </tr>\n",
       "  </thead>\n",
       "  <tbody>\n",
       "    <tr>\n",
       "      <th>13170</th>\n",
       "      <td>A047759</td>\n",
       "      <td>10+ years</td>\n",
       "      <td>Male</td>\n",
       "    </tr>\n",
       "    <tr>\n",
       "      <th>15798</th>\n",
       "      <td>A134067</td>\n",
       "      <td>10+ years</td>\n",
       "      <td>Male</td>\n",
       "    </tr>\n",
       "    <tr>\n",
       "      <th>15676</th>\n",
       "      <td>A141142</td>\n",
       "      <td>10+ years</td>\n",
       "      <td>Female</td>\n",
       "    </tr>\n",
       "    <tr>\n",
       "      <th>15677</th>\n",
       "      <td>A163459</td>\n",
       "      <td>10+ years</td>\n",
       "      <td>Female</td>\n",
       "    </tr>\n",
       "    <tr>\n",
       "      <th>15678</th>\n",
       "      <td>A165752</td>\n",
       "      <td>10+ years</td>\n",
       "      <td>Male</td>\n",
       "    </tr>\n",
       "    <tr>\n",
       "      <th>...</th>\n",
       "      <td>...</td>\n",
       "      <td>...</td>\n",
       "      <td>...</td>\n",
       "    </tr>\n",
       "    <tr>\n",
       "      <th>42412</th>\n",
       "      <td>A746649</td>\n",
       "      <td>6 years</td>\n",
       "      <td>Male</td>\n",
       "    </tr>\n",
       "    <tr>\n",
       "      <th>12476</th>\n",
       "      <td>A746650</td>\n",
       "      <td>1 year</td>\n",
       "      <td>Female</td>\n",
       "    </tr>\n",
       "    <tr>\n",
       "      <th>36316</th>\n",
       "      <td>A746661</td>\n",
       "      <td>4 years</td>\n",
       "      <td>Female</td>\n",
       "    </tr>\n",
       "    <tr>\n",
       "      <th>26600</th>\n",
       "      <td>A746689</td>\n",
       "      <td>2 years</td>\n",
       "      <td>Female</td>\n",
       "    </tr>\n",
       "    <tr>\n",
       "      <th>26601</th>\n",
       "      <td>A746707</td>\n",
       "      <td>2 years</td>\n",
       "      <td>Male</td>\n",
       "    </tr>\n",
       "  </tbody>\n",
       "</table>\n",
       "<p>27376 rows × 3 columns</p>\n",
       "</div>"
      ],
      "text/plain": [
       "            ID  Age Years  Gender\n",
       "13170  A047759  10+ years    Male\n",
       "15798  A134067  10+ years    Male\n",
       "15676  A141142  10+ years  Female\n",
       "15677  A163459  10+ years  Female\n",
       "15678  A165752  10+ years    Male\n",
       "...        ...        ...     ...\n",
       "42412  A746649    6 years    Male\n",
       "12476  A746650     1 year  Female\n",
       "36316  A746661    4 years  Female\n",
       "26600  A746689    2 years  Female\n",
       "26601  A746707    2 years    Male\n",
       "\n",
       "[27376 rows x 3 columns]"
      ]
     },
     "execution_count": 92,
     "metadata": {},
     "output_type": "execute_result"
    }
   ],
   "source": [
    "#Import 'Austin' dataset:\n",
    "\n",
    "df2 = pd.read_excel('Austin-Dataset.xlsx',usecols = [1,11,21],index = False)\n",
    "#https://data.world/rdowns26/austin-animal-shelter/workspace/file?filename=Austin_Animal_Center_Intakes.csv\n",
    "df2.index = np.arange(1, len(df2) + 1) #To reset the index to start at 1 instead of zero\n",
    "df2.sort_values(\"ID\", inplace = True) \n",
    "df2.drop_duplicates(subset =\"ID\",keep = False, inplace = True) \n",
    "#https://www.geeksforgeeks.org/python-pandas-dataframe-drop_duplicates/\n",
    "df2"
   ]
  },
  {
   "cell_type": "code",
   "execution_count": 91,
   "metadata": {},
   "outputs": [
    {
     "data": {
      "text/html": [
       "<div>\n",
       "<style scoped>\n",
       "    .dataframe tbody tr th:only-of-type {\n",
       "        vertical-align: middle;\n",
       "    }\n",
       "\n",
       "    .dataframe tbody tr th {\n",
       "        vertical-align: top;\n",
       "    }\n",
       "\n",
       "    .dataframe thead th {\n",
       "        text-align: right;\n",
       "    }\n",
       "</style>\n",
       "<table border=\"1\" class=\"dataframe\">\n",
       "  <thead>\n",
       "    <tr style=\"text-align: right;\">\n",
       "      <th></th>\n",
       "      <th>ID</th>\n",
       "      <th>Gender</th>\n",
       "    </tr>\n",
       "    <tr>\n",
       "      <th>Age Years</th>\n",
       "      <th></th>\n",
       "      <th></th>\n",
       "    </tr>\n",
       "  </thead>\n",
       "  <tbody>\n",
       "    <tr>\n",
       "      <th>1 year</th>\n",
       "      <td>5036</td>\n",
       "      <td>5029</td>\n",
       "    </tr>\n",
       "    <tr>\n",
       "      <th>10+ years</th>\n",
       "      <td>1552</td>\n",
       "      <td>1546</td>\n",
       "    </tr>\n",
       "    <tr>\n",
       "      <th>2 years</th>\n",
       "      <td>4656</td>\n",
       "      <td>4654</td>\n",
       "    </tr>\n",
       "    <tr>\n",
       "      <th>3 years</th>\n",
       "      <td>2300</td>\n",
       "      <td>2296</td>\n",
       "    </tr>\n",
       "    <tr>\n",
       "      <th>4 years</th>\n",
       "      <td>1392</td>\n",
       "      <td>1389</td>\n",
       "    </tr>\n",
       "    <tr>\n",
       "      <th>5 years</th>\n",
       "      <td>1266</td>\n",
       "      <td>1265</td>\n",
       "    </tr>\n",
       "    <tr>\n",
       "      <th>6 years</th>\n",
       "      <td>883</td>\n",
       "      <td>883</td>\n",
       "    </tr>\n",
       "    <tr>\n",
       "      <th>7 years</th>\n",
       "      <td>721</td>\n",
       "      <td>720</td>\n",
       "    </tr>\n",
       "    <tr>\n",
       "      <th>8 years</th>\n",
       "      <td>662</td>\n",
       "      <td>661</td>\n",
       "    </tr>\n",
       "    <tr>\n",
       "      <th>9 years</th>\n",
       "      <td>405</td>\n",
       "      <td>403</td>\n",
       "    </tr>\n",
       "    <tr>\n",
       "      <th>&lt;1 year</th>\n",
       "      <td>8503</td>\n",
       "      <td>8359</td>\n",
       "    </tr>\n",
       "  </tbody>\n",
       "</table>\n",
       "</div>"
      ],
      "text/plain": [
       "             ID  Gender\n",
       "Age Years              \n",
       "1 year     5036    5029\n",
       "10+ years  1552    1546\n",
       "2 years    4656    4654\n",
       "3 years    2300    2296\n",
       "4 years    1392    1389\n",
       "5 years    1266    1265\n",
       "6 years     883     883\n",
       "7 years     721     720\n",
       "8 years     662     661\n",
       "9 years     405     403\n",
       "<1 year    8503    8359"
      ]
     },
     "execution_count": 91,
     "metadata": {},
     "output_type": "execute_result"
    }
   ],
   "source": [
    "(df2.groupby( ['Age Years'] ).count())\n",
    "#df2['%'] = 100 * (df3 / len(df2))\n",
    "#df['%'] = 100 * df['sales'] / df.groupby('state')['sales'].transform('sum')\n",
    "#print(df.sort_values(['state', 'office_id']).reset_index(drop=True))\n",
    "#https://stackoverflow.com/questions/23377108/pandas-percentage-of-total-with-groupby"
   ]
  },
  {
   "cell_type": "code",
   "execution_count": 69,
   "metadata": {},
   "outputs": [
    {
     "data": {
      "text/html": [
       "<div>\n",
       "<style scoped>\n",
       "    .dataframe tbody tr th:only-of-type {\n",
       "        vertical-align: middle;\n",
       "    }\n",
       "\n",
       "    .dataframe tbody tr th {\n",
       "        vertical-align: top;\n",
       "    }\n",
       "\n",
       "    .dataframe thead th {\n",
       "        text-align: right;\n",
       "    }\n",
       "</style>\n",
       "<table border=\"1\" class=\"dataframe\">\n",
       "  <thead>\n",
       "    <tr style=\"text-align: right;\">\n",
       "      <th></th>\n",
       "      <th>ID</th>\n",
       "      <th>Age Years</th>\n",
       "    </tr>\n",
       "    <tr>\n",
       "      <th>Gender</th>\n",
       "      <th></th>\n",
       "      <th></th>\n",
       "    </tr>\n",
       "  </thead>\n",
       "  <tbody>\n",
       "    <tr>\n",
       "      <th>Female</th>\n",
       "      <td>12681</td>\n",
       "      <td>12681</td>\n",
       "    </tr>\n",
       "    <tr>\n",
       "      <th>Male</th>\n",
       "      <td>14524</td>\n",
       "      <td>14524</td>\n",
       "    </tr>\n",
       "  </tbody>\n",
       "</table>\n",
       "</div>"
      ],
      "text/plain": [
       "           ID  Age Years\n",
       "Gender                  \n",
       "Female  12681      12681\n",
       "Male    14524      14524"
      ]
     },
     "execution_count": 69,
     "metadata": {},
     "output_type": "execute_result"
    }
   ],
   "source": [
    "((df2.groupby( ['Gender'] ).count()))"
   ]
  },
  {
   "cell_type": "code",
   "execution_count": 21,
   "metadata": {},
   "outputs": [
    {
     "data": {
      "text/html": [
       "<div>\n",
       "<style scoped>\n",
       "    .dataframe tbody tr th:only-of-type {\n",
       "        vertical-align: middle;\n",
       "    }\n",
       "\n",
       "    .dataframe tbody tr th {\n",
       "        vertical-align: top;\n",
       "    }\n",
       "\n",
       "    .dataframe thead th {\n",
       "        text-align: right;\n",
       "    }\n",
       "</style>\n",
       "<table border=\"1\" class=\"dataframe\">\n",
       "  <thead>\n",
       "    <tr style=\"text-align: right;\">\n",
       "      <th></th>\n",
       "      <th>Sex</th>\n",
       "      <th>Age</th>\n",
       "      <th>Size</th>\n",
       "    </tr>\n",
       "    <tr>\n",
       "      <th>Pedigree</th>\n",
       "      <th></th>\n",
       "      <th></th>\n",
       "      <th></th>\n",
       "    </tr>\n",
       "  </thead>\n",
       "  <tbody>\n",
       "    <tr>\n",
       "      <th>Cross Breed</th>\n",
       "      <td>44577</td>\n",
       "      <td>44577</td>\n",
       "      <td>44577</td>\n",
       "    </tr>\n",
       "    <tr>\n",
       "      <th>Purebred</th>\n",
       "      <td>3519</td>\n",
       "      <td>3520</td>\n",
       "      <td>3520</td>\n",
       "    </tr>\n",
       "  </tbody>\n",
       "</table>\n",
       "</div>"
      ],
      "text/plain": [
       "               Sex    Age   Size\n",
       "Pedigree                        \n",
       "Cross Breed  44577  44577  44577\n",
       "Purebred      3519   3520   3520"
      ]
     },
     "execution_count": 21,
     "metadata": {},
     "output_type": "execute_result"
    }
   ],
   "source": [
    "((df2.groupby( ['Pedigree'] ).count()))"
   ]
  },
  {
   "cell_type": "code",
   "execution_count": 28,
   "metadata": {},
   "outputs": [
    {
     "data": {
      "text/html": [
       "<div>\n",
       "<style scoped>\n",
       "    .dataframe tbody tr th:only-of-type {\n",
       "        vertical-align: middle;\n",
       "    }\n",
       "\n",
       "    .dataframe tbody tr th {\n",
       "        vertical-align: top;\n",
       "    }\n",
       "\n",
       "    .dataframe thead th {\n",
       "        text-align: right;\n",
       "    }\n",
       "</style>\n",
       "<table border=\"1\" class=\"dataframe\">\n",
       "  <thead>\n",
       "    <tr style=\"text-align: right;\">\n",
       "      <th></th>\n",
       "      <th>Sex</th>\n",
       "      <th>Age</th>\n",
       "      <th>Pedigree</th>\n",
       "    </tr>\n",
       "    <tr>\n",
       "      <th>Size</th>\n",
       "      <th></th>\n",
       "      <th></th>\n",
       "      <th></th>\n",
       "    </tr>\n",
       "  </thead>\n",
       "  <tbody>\n",
       "    <tr>\n",
       "      <th>Large</th>\n",
       "      <td>19293</td>\n",
       "      <td>19293</td>\n",
       "      <td>19293</td>\n",
       "    </tr>\n",
       "    <tr>\n",
       "      <th>Medium</th>\n",
       "      <td>13838</td>\n",
       "      <td>13839</td>\n",
       "      <td>13839</td>\n",
       "    </tr>\n",
       "    <tr>\n",
       "      <th>Small</th>\n",
       "      <td>14482</td>\n",
       "      <td>14482</td>\n",
       "      <td>14482</td>\n",
       "    </tr>\n",
       "    <tr>\n",
       "      <th>X Large</th>\n",
       "      <td>483</td>\n",
       "      <td>483</td>\n",
       "      <td>483</td>\n",
       "    </tr>\n",
       "  </tbody>\n",
       "</table>\n",
       "</div>"
      ],
      "text/plain": [
       "           Sex    Age  Pedigree\n",
       "Size                           \n",
       "Large    19293  19293     19293\n",
       "Medium   13838  13839     13839\n",
       "Small    14482  14482     14482\n",
       "X Large    483    483       483"
      ]
     },
     "execution_count": 28,
     "metadata": {},
     "output_type": "execute_result"
    }
   ],
   "source": [
    "((df2.groupby( ['Size'] ).count()))"
   ]
  },
  {
   "cell_type": "code",
   "execution_count": null,
   "metadata": {},
   "outputs": [],
   "source": []
  },
  {
   "cell_type": "markdown",
   "metadata": {},
   "source": [
    "***"
   ]
  },
  {
   "cell_type": "markdown",
   "metadata": {},
   "source": [
    "### Relationship between key factors:"
   ]
  },
  {
   "cell_type": "markdown",
   "metadata": {},
   "source": [
    "### Age: \n",
    "\n",
    "#### Research Assumptions:\n",
    "\n",
    "###### UK:  Puppy (0-1 years) 36%; Adult (1-3 years) 29%; Adult (4-6 years) 19% Senior (7+) 16%\n",
    "UK: <6 mths 14%; 6-12 mths 22%; 1 year 12%;  2 years 11%; 3 years 6%; 4 years 8%; 5 years 7%; 6 years 4%; 7-9 years+ 13%; 10 yrs+ 3% (Extrapolated from US Study)\n",
    "\n",
    "UK Dogs Trust study: https://www.tandfonline.com/doi/full/10.1080/10888700903369255\n",
    "\n",
    "###### US: Puppy (0-1 years) 31%; Adult (1-3 years) 45%; Adult (4-6 years) 13% Senior (7+) 11%\n",
    "US: < 1 year 31%; 1 year 19%; 2 years 17%; 3 years 9%; 4 years 5%; 5 years 5%; 6 years 3%; 7-9 years+ 6%;10 yrs+ 5%\n",
    "\n",
    "US Study: https://faunalytics.org/understanding-the-factors-that-lead-to-successful-dog-adoptions/ \n",
    "\n",
    "US Study: https://data.world/rdowns26/austin-animal-shelter/workspace/file?filename=Austin_Animal_Center_Intakes.csv "
   ]
  },
  {
   "cell_type": "markdown",
   "metadata": {},
   "source": [
    "### Gender: \n",
    "\n",
    "#### Research Assumptions:\n",
    "\n",
    "###### UK: The split of male to female dogs based on 2,806 dogs in the 'Dogs Trust dataset' was 57% male and 43% female.\n",
    "UK Dogs Trust study: https://www.tandfonline.com/doi/full/10.1080/10888700903369255\n",
    "\n",
    "###### US: The split of male to female dogs based on the 'Austin animal shelter dataset' was 55% male and 45% female.\n",
    "US Study: https://data.world/rdowns26/austin-animal-shelter/workspace/file?filename=Austin_Animal_Center_Intakes.csv \n",
    "\n",
    "###### Close to equal numbers of male and female dogs were surrendered. \n",
    "\n",
    "US Study 2008-2011: https://www.companionanimalpsychology.com/2013/03/what-influences-dogs-length-of-stay-at.html"
   ]
  },
  {
   "cell_type": "markdown",
   "metadata": {},
   "source": [
    "### Pedigree:\n",
    "\n",
    "#### Research Assumptions:\n",
    "\n",
    "###### UK: The split of pedigree / crossbreed dogs based on 2,806 dogs in the 'Dogs Trust dataset' was 21% pedigree and 79% crossbreed dogs.\n",
    "UK Dogs Trust study: https://www.tandfonline.com/doi/full/10.1080/10888700903369255\n",
    "\n",
    "###### US: The split of pedigree / crossbreed dogs based on the 'Austin animal shelter dataset' was 7% pedigree and 93% crossbreed dogs.\n",
    "US Study: https://data.world/rdowns26/austin-animal-shelter/workspace/file?filename=Austin_Animal_Center_Intakes.csv"
   ]
  },
  {
   "cell_type": "markdown",
   "metadata": {},
   "source": [
    "### Size:\n",
    "\n",
    "#### Research Assumptions:\n",
    "\n",
    "###### UK: The split of  dog sizes based on 2,806 dogs in the 'Dogs Trust dataset' was 22% small (<10kg), 60% medium (10-30kg) and 18% large (>30kg).\n",
    "UK Dogs Trust study: https://www.tandfonline.com/doi/full/10.1080/10888700903369255\n",
    "\n",
    "###### US: The split of  dog sizes based on the 'Austin animal shelter dataset' was 30% small (<10kg), 29% medium (10-30kg) and 40% large (>30kg).\n",
    "US Study: https://data.world/rdowns26/austin-animal-shelter/workspace/file?filename=Austin_Animal_Center_Intakes.csv\n",
    "\n",
    "XS dogs are adopted soonest, followed by the small dogs. XL dogs (e.g. St Bernards) were quite unique and likely were adopted out because of this. Length of stay increased with age and was highest for medium-sized dogs.  \n",
    "\n",
    "US Study: https://faunalytics.org/effects-of-phenotypic-characteristics-on-the-length-of-stay-of-dogs-at-two-no-kill-animal-shelters-2/\n",
    "\n",
    "US Study 2008-2011: https://www.companionanimalpsychology.com/2013/03/what-influences-dogs-length-of-stay-at.html  "
   ]
  },
  {
   "cell_type": "markdown",
   "metadata": {},
   "source": [
    "### Length of Stay (Duration (Days)): \n",
    "\n",
    "#### Research Assumptions:\n",
    "\n",
    "###### UK average adoption time - 29 days\n",
    "\n",
    "UK: Puppies  < 6 months - 20 days; 6-12 months - 28 days; Adult dogs (1-6 years) - 32 days; Seniors 7+ years - 72 days (Extrapolated split by age based on US Stats)\n",
    "\n",
    "UK Study 2001-2004: https://www.researchgate.net/publication/244642863_Factors_affecting_time_to_adoption_of_dogs_re-homed_by_a_charity_in_the_UK \n",
    "\n",
    "UK Study: https://veterinaryrecord.bmj.com/content/161/9/283.2\n",
    "\n",
    "###### US average adoption time - 35 days\n",
    "US Puppies  < 6 months - 23 days; 6-12 months - 33 days; Adult dogs (1-6 years) - 42 days; Seniors 7+ years - 89 days\n",
    "\n",
    "US Study 2008-2011: https://www.companionanimalpsychology.com/2013/03/what-influences-dogs-length-of-stay-at.html\n",
    "US Study (Senior Dogs): https://www.ncbi.nlm.nih.gov/pmc/articles/PMC5867524/"
   ]
  },
  {
   "cell_type": "markdown",
   "metadata": {},
   "source": [
    "***"
   ]
  },
  {
   "cell_type": "markdown",
   "metadata": {},
   "source": [
    "### Set up the Data Set:"
   ]
  },
  {
   "cell_type": "code",
   "execution_count": null,
   "metadata": {},
   "outputs": [],
   "source": [
    "#Create a new Dataframe for the data\n",
    "df = pd.DataFrame() #Create the headers for the data"
   ]
  },
  {
   "cell_type": "markdown",
   "metadata": {},
   "source": [
    "### Simulate the key variables:"
   ]
  },
  {
   "cell_type": "markdown",
   "metadata": {},
   "source": [
    "### Age:"
   ]
  },
  {
   "cell_type": "markdown",
   "metadata": {},
   "source": [
    "#### Assumptions: Age is based on the Dogs Trust dataset extrapolated by year using US data as basis (see research above):\n",
    "\n",
    "< 6 mths 14%; 6-12 mths 22%; 1 year 12%;  2 years 11%; 3 years 6%; 4 years 8%; 5 years 7%; 6 years 4%; 7-10 years+ 13%; 10 yrs + 3%\n",
    "\n",
    "Age 13 has been chosen as the the upper age of a senior dog in a shelter\n",
    "\n",
    "#### Distribution:\n",
    "Numpy.random.triangular() was selected to generate the 'Age' dataset as there is a clear skew in the distribution at 1-12 months.  This method was used to create an array between 1 month and 156 months (13 years) skewed around 6 months (mid-point 1-12 months).  Numpy.random.choice() was also considered however, numpy.random.triangular() was considered a better selection as it efficiently produced a selection by month without allocating a monthly probability. "
   ]
  },
  {
   "cell_type": "markdown",
   "metadata": {},
   "source": [
    "#### Simulating the 'Age' dataset:"
   ]
  },
  {
   "cell_type": "code",
   "execution_count": null,
   "metadata": {},
   "outputs": [],
   "source": [
    "#Set seed to zero to produce a consistent result\n",
    "np.random.seed(0)\n",
    "\n",
    "#Use random.triangular() to create an array between 1 month and 156 months (13 years) skewed around 6 months\n",
    "Age = (np.random.triangular (0, 6, 156, size=200))\n",
    "\n",
    "#Populate the 'Age' column with 200 samples aged 1 month to 13 years.\n",
    "df['Age_Mths'] = np.round(Age)"
   ]
  },
  {
   "cell_type": "code",
   "execution_count": null,
   "metadata": {},
   "outputs": [],
   "source": [
    "#Option to show the dataset \n",
    "#print(df['Age_Yrs'])"
   ]
  },
  {
   "cell_type": "code",
   "execution_count": null,
   "metadata": {},
   "outputs": [],
   "source": [
    "#To create a new column calculating age in years based on 'Age_Mths/12'\n",
    "#df.insert(2, 'Age_Yrs', np.nan) #Insert new column called 'Risk'\n",
    "df['Age_Yrs'] = round(df.Age_Mths/ 12)"
   ]
  },
  {
   "cell_type": "code",
   "execution_count": null,
   "metadata": {},
   "outputs": [],
   "source": [
    "#Alternative method to np.random.triangular\n",
    "#Set seed to zero to produce a consistent result\n",
    "#np.random.seed(0)\n",
    "#Ages =  np.arange(0,11,1)\n",
    "#Age1 = np.random.choice(Ages, size=200, replace=True, p=[.36,.12,.11,.06,.08,.07,.04,.04,.04,.04,.04])\n",
    "#plt.hist(Age1)\n",
    "#plt.show()\n",
    "#print(Age1)\n",
    "#df['Age_Yrs'] = np.round(Age1)"
   ]
  },
  {
   "cell_type": "markdown",
   "metadata": {},
   "source": [
    "#### Plot the 'Age' dataset result:"
   ]
  },
  {
   "cell_type": "code",
   "execution_count": null,
   "metadata": {},
   "outputs": [],
   "source": [
    "plt.hist(Age/12)\n",
    "plt.title(\"\\nSummary of Age of Dogs in Shelters\\n\")\n",
    "plt.xlabel(\"\\nAge in Years\")\n",
    "plt.ylabel(\"\\nFrequency\\n\")\n",
    "plt.show()"
   ]
  },
  {
   "cell_type": "markdown",
   "metadata": {},
   "source": [
    "### Gender:"
   ]
  },
  {
   "cell_type": "markdown",
   "metadata": {},
   "source": [
    "#### Assumptions:\n",
    "\n",
    "Male   - 57%\n",
    "Female - 43%\n",
    "(Based on Dogs Trust Dataset)\n",
    "\n",
    "#### Distribution:\n",
    "\n",
    "Numpy.random.choice () was selected to generate the 'Gender' dataset as we have two options with attached probabilities for each"
   ]
  },
  {
   "cell_type": "markdown",
   "metadata": {},
   "source": [
    "#### Simulating the 'Gender' Dataset"
   ]
  },
  {
   "cell_type": "code",
   "execution_count": null,
   "metadata": {},
   "outputs": [],
   "source": [
    "#Create the Male/ Female object\n",
    "sex = ['Male','Female']\n",
    "\n",
    "#Set seed to produce a consistent result\n",
    "np.random.seed(1)\n",
    "\n",
    "#Use random.choice () to create an array with a probability of 57%:43% male:female ratio\n",
    "Gender = np.random.choice(sex, size = 200, replace = True, p = [0.57,0.43])\n",
    "\n",
    "#Populate the 'Gender' column with 200 samples.\n",
    "df['Gender'] = Gender"
   ]
  },
  {
   "cell_type": "code",
   "execution_count": null,
   "metadata": {},
   "outputs": [],
   "source": [
    "#Option to show the dataset \n",
    "#print(df)"
   ]
  },
  {
   "cell_type": "markdown",
   "metadata": {},
   "source": [
    "#### Plot the 'Gender' dataset result:"
   ]
  },
  {
   "cell_type": "code",
   "execution_count": null,
   "metadata": {},
   "outputs": [],
   "source": [
    "plt.hist (Gender)\n",
    "plt.title(\"\\nGender of Dogs in Shelters\\n\")\n",
    "plt.xlabel(\"\\nGender\")\n",
    "plt.ylabel(\"\\nFrequency\\n\")\n",
    "plt.show()"
   ]
  },
  {
   "cell_type": "markdown",
   "metadata": {},
   "source": [
    "### Pedigree:"
   ]
  },
  {
   "cell_type": "raw",
   "metadata": {},
   "source": [
    "#### Assumptions:\n",
    "\n",
    "Purebred     - 21%\n",
    "Crossbreed   - 79% (Based on Dogs Trust Dataset)\n",
    "\n",
    "#### Distributions:\n",
    "\n",
    "Numpy.random.choice () was one again selected to generate the 'Pedigree' dataset as we have two options with attached probabilities for each"
   ]
  },
  {
   "cell_type": "code",
   "execution_count": null,
   "metadata": {},
   "outputs": [],
   "source": []
  },
  {
   "cell_type": "markdown",
   "metadata": {},
   "source": [
    "#### Simulating the 'Pedigree' dataset:"
   ]
  },
  {
   "cell_type": "code",
   "execution_count": null,
   "metadata": {},
   "outputs": [],
   "source": [
    "#Create the pedigree object\n",
    "pedigree = ['Purebreed','Crossbreed']\n",
    "\n",
    "#Set seed to produce a consistent result\n",
    "np.random.seed(1)\n",
    "\n",
    "#Use random.choice () to create an array with a probability of 21%:79% (Purebreed:Crossbreed)\n",
    "Pedigree = np.random.choice(pedigree, size = 200, replace = True, p = [0.21,0.79])\n",
    "\n",
    "#Populate the 'Pedigree' column with 200 samples.\n",
    "df['Pedigree'] = Pedigree"
   ]
  },
  {
   "cell_type": "code",
   "execution_count": null,
   "metadata": {},
   "outputs": [],
   "source": [
    "#Option to show the dataset \n",
    "#print(df['Pedigree'])"
   ]
  },
  {
   "cell_type": "markdown",
   "metadata": {},
   "source": [
    "#### Plot the 'Pedigree' dataset result:"
   ]
  },
  {
   "cell_type": "code",
   "execution_count": null,
   "metadata": {},
   "outputs": [],
   "source": [
    "plt.hist (Pedigree)\n",
    "plt.title(\"\\nPedigree of Dogs in Shelters\\n\")\n",
    "plt.xlabel(\"\\nPedigree Status\")\n",
    "plt.ylabel(\"\\nFrequency\\n\")\n",
    "plt.show()"
   ]
  },
  {
   "cell_type": "markdown",
   "metadata": {},
   "source": [
    "### Size:"
   ]
  },
  {
   "cell_type": "markdown",
   "metadata": {},
   "source": [
    "#### Assumptions:\n",
    "Small 22%; Medium 60%, Large 18%\n",
    "\n",
    "#### Distribution:\n",
    "Numpy.random.choice () was one again selected to generate the 'Size' dataset as we have two options with attached probabilities for each"
   ]
  },
  {
   "cell_type": "markdown",
   "metadata": {},
   "source": [
    "#### Simulating the 'Size' dataset:"
   ]
  },
  {
   "cell_type": "code",
   "execution_count": null,
   "metadata": {},
   "outputs": [],
   "source": [
    "#Create the Size Object\n",
    "Status = ['Small','Medium','Large']\n",
    "\n",
    "#Set seed to produce a consistent result\n",
    "np.random.seed(1)\n",
    "\n",
    "#Use random.choice () to create an array with a probability of 22%:60%:18%\n",
    "Size = np.random.choice(Status, size = 200, replace = True, p = [.22,.6,.18])\n",
    "\n",
    "#Populate the 'Size' column with Small, Medium,Large & X-Large samples\n",
    "df['Size'] = Size"
   ]
  },
  {
   "cell_type": "code",
   "execution_count": null,
   "metadata": {},
   "outputs": [],
   "source": [
    "# Option to show the dataset \n",
    "#print(df['Size'])"
   ]
  },
  {
   "cell_type": "markdown",
   "metadata": {},
   "source": [
    "#### Plot the 'Size' dataset results:"
   ]
  },
  {
   "cell_type": "code",
   "execution_count": null,
   "metadata": {},
   "outputs": [],
   "source": [
    "plt.hist (Size)\n",
    "plt.title(\"\\nSize of Dogs in Shelters\\n\")\n",
    "plt.xlabel(\"\\nSize\")\n",
    "plt.ylabel(\"\\nFrequency\\n\")\n",
    "plt.show()"
   ]
  },
  {
   "cell_type": "markdown",
   "metadata": {},
   "source": [
    "### Risk:"
   ]
  },
  {
   "cell_type": "code",
   "execution_count": null,
   "metadata": {},
   "outputs": [],
   "source": [
    "#To create data to populate a new column called 'At Risk' based on risk profile around age, gender, coat colour and size.\n",
    "def Risk_Rating(row):\n",
    "\n",
    "    if row['Age_Yrs'] > 10:\n",
    "        return 'V-High'\n",
    "    if row['Age_Yrs'] > 6 and row['Age_Yrs'] <= 10:\n",
    "        return 'High' \n",
    "    if row['Age_Yrs'] > 3 and row['Age_Yrs'] <= 6 and row['Gender'] == 'Male' and row['Size'] == 'Medium' and row['Pedigree'] =='Crossbreed':\n",
    "        return 'High'     \n",
    "    if row['Age_Yrs'] > 3 and row['Age_Yrs'] <= 6 and row['Gender'] == 'Female' and row['Size'] == 'Medium' and row['Pedigree'] =='Crossbreed':\n",
    "        return 'Medium' \n",
    "    if row['Age_Yrs'] > 3 and row['Age_Yrs'] <= 6 and row['Size'] != 'Medium':\n",
    "        return 'Medium' \n",
    "    if row['Age_Yrs'] > 1 and row['Age_Yrs'] <= 3 and row['Gender'] == 'Male' and row['Size'] == 'Medium' and row['Pedigree'] =='Crossbreed':\n",
    "        return 'Medium'   \n",
    "    if row['Age_Yrs'] > 1 and row['Age_Yrs'] <= 3 and row['Gender'] == 'Female' and row['Size'] == 'Medium' and row['Pedigree'] =='Crossbreed':\n",
    "        return 'Medium'       \n",
    "    if row['Age_Yrs'] > 1 and row['Age_Yrs'] <= 3 and row['Size'] != 'Medium' and row['Pedigree'] =='Crossbreed' or row['Pedigree'] !='Crossbreed':\n",
    "        return 'Low'     \n",
    "    if row['Age_Yrs'] <= 1: \n",
    "        return 'Low'        \n",
    "    else:\n",
    "        return 'null'   "
   ]
  },
  {
   "cell_type": "code",
   "execution_count": null,
   "metadata": {},
   "outputs": [],
   "source": [
    "#To populate a column called 'Risk' in the dataframe from the results above  \n",
    "df['Risk'] = df.apply(lambda row: Risk_Rating(row), axis=1)"
   ]
  },
  {
   "cell_type": "code",
   "execution_count": null,
   "metadata": {},
   "outputs": [],
   "source": [
    "#Option to show the dataset \n",
    "#print(df['Risk'])"
   ]
  },
  {
   "cell_type": "code",
   "execution_count": null,
   "metadata": {},
   "outputs": [],
   "source": [
    "#To check to ensure no 'null' values in the 'Risk' column\n",
    "df['Risk'].reindex(index = [\"Low\", \"Medium\", \"High\",\"V-High\"])\n",
    "#https://stackoverflow.com/questions/30009948/how-to-reorder-indexed-rows-based-on-a-list-in-pandas-data-frame/3001000\n",
    "((df.groupby( ['Risk'] ).count()))"
   ]
  },
  {
   "cell_type": "code",
   "execution_count": null,
   "metadata": {},
   "outputs": [],
   "source": [
    "df.plot(x ='Risk', y='Age_Yrs', kind = 'scatter')\n",
    "plt.show()"
   ]
  },
  {
   "cell_type": "markdown",
   "metadata": {},
   "source": [
    "### Duration (Length of Stay):"
   ]
  },
  {
   "cell_type": "markdown",
   "metadata": {},
   "source": [
    "#### Assumptions:\n",
    "\n",
    "Average adoption time - 29 days\n",
    "\n",
    "Split By Age Group: Puppies < 6 months - 20 days; 6-12 months - 28 days; Adult dogs (1-6 years) - 32 days; Seniors 7+ years - 72 days.\n",
    "\n",
    "#### Distribution:\n",
    "\n"
   ]
  },
  {
   "cell_type": "markdown",
   "metadata": {},
   "source": [
    "#### Simulating the 'Length of Stay' dataset:"
   ]
  },
  {
   "cell_type": "code",
   "execution_count": null,
   "metadata": {},
   "outputs": [],
   "source": [
    "#Length of Stay linked to Risk\n",
    "def duration(risk):\n",
    "    if risk == 'V-High':\n",
    "        return np.random.triangular (30, 72, 90) # Risk equiv to > 7 yr old senior  \n",
    "    if risk  == 'High':\n",
    "        return np.random.triangular (1, 50, 60) # Risk equiv to 7 yr old adult  \n",
    "    if risk  == 'Medium':\n",
    "        return np.random.triangular (1, 32, 40)  # Risk equiv to < 1-6 yr old adult (average 32)\n",
    "    if risk  == 'Low':\n",
    "        return np.random.normal(20, 3)           # Risk equiv to < 0-6 mth old puppy (average 20)"
   ]
  },
  {
   "cell_type": "code",
   "execution_count": null,
   "metadata": {},
   "outputs": [],
   "source": [
    "#To populate a column called 'Duration (Days)' in the dataframe from the results above  \n",
    "pd.set_option(\"display.precision\", 0) #Use 1 decimal places in output display\n",
    "df['Duration (Days)'] = df['Risk'].apply(duration)"
   ]
  },
  {
   "cell_type": "code",
   "execution_count": null,
   "metadata": {},
   "outputs": [],
   "source": [
    "#Option to display the dataset\n",
    "#df.round({'Duration (Days)': 0, 'Age_Mths': 0, 'Age_Yrs': 0})  # generate dataframe #"
   ]
  },
  {
   "cell_type": "markdown",
   "metadata": {},
   "source": [
    "#### Plot the Duration (Days) dataset:"
   ]
  },
  {
   "cell_type": "code",
   "execution_count": null,
   "metadata": {},
   "outputs": [],
   "source": [
    "df.plot(x ='Age_Yrs', y='Duration (Days)', kind = 'scatter')\n",
    "df.hist('Duration (Days)')\n",
    "plt.show()"
   ]
  },
  {
   "cell_type": "markdown",
   "metadata": {},
   "source": [
    "***"
   ]
  },
  {
   "cell_type": "markdown",
   "metadata": {},
   "source": [
    "### Create a summary dataset:"
   ]
  },
  {
   "cell_type": "code",
   "execution_count": null,
   "metadata": {},
   "outputs": [],
   "source": [
    "#To delete unnecessary dataframes\n",
    "#df = df.drop('%', axis=1)"
   ]
  },
  {
   "cell_type": "code",
   "execution_count": null,
   "metadata": {},
   "outputs": [],
   "source": [
    "#To check for missing values\n",
    "pd.set_option(\"display.max_rows\", 200)#Display all entries\n",
    "df.isnull()\n",
    "df.style.highlight_null(null_color='red'); #highlight any null values in red\n",
    "#print(df.isnull()) # Option to print null value check"
   ]
  },
  {
   "cell_type": "code",
   "execution_count": null,
   "metadata": {},
   "outputs": [],
   "source": [
    "#To reset the index to start at 1 instead of zero\n",
    "#https://stackoverflow.com/questions/32249960/in-python-pandas-start-row-index-from-1-instead-of-zero-without-creating-additi\n",
    "df.index = np.arange(1, len(df) + 1)"
   ]
  },
  {
   "cell_type": "code",
   "execution_count": null,
   "metadata": {},
   "outputs": [],
   "source": [
    "#To re-order the columns\n",
    "df = df[['Duration (Days)', 'Age_Mths', 'Age_Yrs', 'Gender', 'Pedigree','Size','Risk']]"
   ]
  },
  {
   "cell_type": "code",
   "execution_count": null,
   "metadata": {},
   "outputs": [],
   "source": [
    "#To format the dataframe\n",
    "#Display the DataFrame, rounding continuous variables to two decimal places\n",
    "df.round({'Duration (Days)': 0, 'Age_Mths': 0, 'Age_Yrs': 0})\n",
    "pd.set_option(\"display.precision\", 0)# Use 0 decimal places in output display\n",
    "pd.set_option('expand_frame_repr', False) #print dataframe on a single line\n",
    "#https://stackoverflow.com/questions/39482722/how-to-print-dataframe-on-single-line\n",
    "pd.set_option(\"display.max_rows\", 200)#Display all entries\n",
    "pd.options.display.max_columns = 7 #Print 7 Columns\n",
    "df.style.highlight_null(null_color='red');"
   ]
  },
  {
   "cell_type": "markdown",
   "metadata": {},
   "source": [
    "### Display the summary dataset:"
   ]
  },
  {
   "cell_type": "code",
   "execution_count": null,
   "metadata": {},
   "outputs": [],
   "source": [
    "df"
   ]
  },
  {
   "cell_type": "code",
   "execution_count": null,
   "metadata": {},
   "outputs": [],
   "source": [
    "((df.groupby( ['Age_Yrs'] ).count()))"
   ]
  },
  {
   "cell_type": "code",
   "execution_count": null,
   "metadata": {},
   "outputs": [],
   "source": [
    "df.describe()"
   ]
  },
  {
   "cell_type": "code",
   "execution_count": null,
   "metadata": {},
   "outputs": [],
   "source": []
  },
  {
   "cell_type": "code",
   "execution_count": null,
   "metadata": {},
   "outputs": [],
   "source": []
  },
  {
   "cell_type": "markdown",
   "metadata": {},
   "source": [
    "### Plot the results as a scatterplot:"
   ]
  },
  {
   "cell_type": "code",
   "execution_count": null,
   "metadata": {},
   "outputs": [],
   "source": [
    "sns.relplot(x=\"Age_Yrs\", y='Duration (Days)', hue='Size',size='Gender',sizes=(20, 200), alpha=.5, palette=\"muted\",height=6, data=df)\n",
    "plt.show()"
   ]
  },
  {
   "cell_type": "markdown",
   "metadata": {},
   "source": [
    "### References:\n",
    "https://www.aspca.org/animal-homelessness/shelter-intake-and-surrender/pet-statistics\n",
    "\n",
    "https://www.petfinder.com/pet-adoption/dog-adoption/pets-relinquished-shelters/\n",
    "\n",
    "https://pubmed.ncbi.nlm.nih.gov/32575574/#&gid=article-figures&pid=figure-2-uid-1\n",
    "\n",
    "https://www.thejournal.ie/dogs-abandoned-5194543-Sep2020/\n",
    "\n",
    "https://news.orvis.com/dogs/when-is-it-time-to-surrender-your-dog\n",
    "\n",
    "https://faunalytics.org/understanding-the-factors-that-lead-to-successful-dog-adoptions/\n",
    "\n",
    "https://veterinaryrecord.bmj.com/content/161/9/283.2\n",
    "\n",
    "https://pubmed.ncbi.nlm.nih.gov/29557174/\n",
    "\n",
    "https://s3.amazonaws.com/cdn-origin-etr.akc.org/wp-content/uploads/2020/07/21083509/MACH-EndYear2019.pdf\n",
    "\n",
    "https://apnews.com/article/218042cf3f684525874f48ae990ed49b\n",
    "\n",
    "https://www.hillspet.com/dog-care/new-pet-parent/common-reasons-adopted-dogs-are-returned-to-shelters\n",
    "\n",
    "https://data.bloomington.in.gov/dataset/animal-care-and-control/resource/7a847ec2-31c6-48e3-b0bc-02af2fa94587\n",
    "\n",
    "https://www.companionanimalpsychology.com/2013/03/what-influences-dogs-length-of-stay-at.html\n",
    "\n",
    "US Re-homing stats:\n",
    "https://data.world/rdowns26/austin-animal-shelter/workspace/file?filename=Project+Report.pdf\n",
    "\n",
    "US Older dog study:\n",
    "https://www.ncbi.nlm.nih.gov/pmc/articles/PMC5867524/\n",
    "\n",
    "UK Dogs Trust study:\n",
    "https://www.tandfonline.com/doi/full/10.1080/10888700903369255"
   ]
  },
  {
   "cell_type": "code",
   "execution_count": null,
   "metadata": {},
   "outputs": [],
   "source": []
  }
 ],
 "metadata": {
  "kernelspec": {
   "display_name": "Python 3",
   "language": "python",
   "name": "python3"
  },
  "language_info": {
   "codemirror_mode": {
    "name": "ipython",
    "version": 3
   },
   "file_extension": ".py",
   "mimetype": "text/x-python",
   "name": "python",
   "nbconvert_exporter": "python",
   "pygments_lexer": "ipython3",
   "version": "3.8.3"
  }
 },
 "nbformat": 4,
 "nbformat_minor": 4
}
